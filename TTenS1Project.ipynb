{
 "cells": [
  {
   "cell_type": "markdown",
   "id": "694e105d",
   "metadata": {},
   "source": [
    "<div style=\"border:solid green 2px; padding: 20px\">\n",
    "    \n",
    "<b>Hello!</b> We're glad to see you in code-reviewer territory. You've done a great job on the project, but let's get to know each other and make it even better! We have our own atmosphere here and a few rules:\n",
    "\n",
    "\n",
    "1. I work as a code reviewer, and my main goal is not to point out your mistakes, but to share my experience and help you become a data analyst.\n",
    "2. We speak on a first-come-first-served basis.\n",
    "3. if you want to write or ask a question, don't be shy. Just choose your color for your comment.  \n",
    "4. this is a training project, you don't have to be afraid of making a mistake.  \n",
    "5. You have an unlimited number of attempts to pass the project.  \n",
    "6. Let's Go!\n",
    "\n",
    "\n",
    "---\n",
    "I'll be color-coding comments, please don't delete them:\n",
    "\n",
    "<div class=\"alert alert-block alert-danger\">✍\n",
    "    \n",
    "\n",
    "__Reviewer's comment №1__\n",
    "\n",
    "Needs fixing. The block requires some corrections. Work can't be accepted with the red comments.\n",
    "</div>\n",
    "    \n",
    "---\n",
    "\n",
    "<div class=\"alert alert-block alert-warning\">📝\n",
    "    \n",
    "\n",
    "__Reviewer's comment №1__\n",
    "\n",
    "\n",
    "Remarks. Some recommendations.\n",
    "</div>\n",
    "\n",
    "---\n",
    "\n",
    "<div class=\"alert alert-block alert-success\">✔️\n",
    "    \n",
    "\n",
    "__Reviewer's comment №1__\n",
    "\n",
    "Success. Everything is done succesfully.\n",
    "</div>\n",
    "    \n",
    "---\n",
    "    \n",
    "I suggest that we work on the project in dialogue: if you change something in the project or respond to my comments, write about it. It will be easier for me to track changes if you highlight your comments:   \n",
    "    \n",
    "<div class=\"alert alert-info\"> <b>Student сomments:</b> Student answer..</div>\n",
    "    \n",
    "All this will help to make the recheck of your project faster. If you have any questions about my comments, let me know, we'll figure it out together :)   \n",
    "    \n",
    "---\n",
    "   "
   ]
  },
  {
   "cell_type": "markdown",
   "id": "f85a80d2",
   "metadata": {},
   "source": [
    "## Basic Python - Project <a id='intro'></a>"
   ]
  },
  {
   "cell_type": "markdown",
   "id": "a1262df4",
   "metadata": {},
   "source": [
    "## Introduction <a id='intro'></a>\n",
    "In this project, you will work with data from the entertainment industry. You will study a dataset with records on movies and shows. The research will focus on the \"Golden Age\" of television, which began in 1999 with the release of *The Sopranos* and is still ongoing.\n",
    "\n",
    "The aim of this project is to investigate how the number of votes a title receives impacts its ratings. The assumption is that highly-rated shows (we will focus on TV shows, ignoring movies) released during the \"Golden Age\" of television also have the most votes.\n",
    "\n",
    "### Stages \n",
    "Data on movies and shows is stored in the `/datasets/movies_and_shows.csv` file. There is no information about the quality of the data, so you will need to explore it before doing the analysis.\n",
    "\n",
    "First, you'll evaluate the quality of the data and see whether its issues are significant. Then, during data preprocessing, you will try to account for the most critical problems.\n",
    " \n",
    "Your project will consist of three stages:\n",
    " 1. Data overview\n",
    " 2. Data preprocessing\n",
    " 3. Data analysis"
   ]
  },
  {
   "cell_type": "markdown",
   "id": "1bd94122",
   "metadata": {},
   "source": [
    "<div class=\"alert alert-block alert-success\">✔️\n",
    "    \n",
    "\n",
    "__Reviewer's comment №1__\n",
    "\n",
    "Pay attention to the design of this project. It's a good practice to write out the goal and the main steps. I recommend that you take it on board."
   ]
  },
  {
   "cell_type": "markdown",
   "id": "a52a5eb7",
   "metadata": {},
   "source": []
  },
  {
   "cell_type": "markdown",
   "id": "ac0593ac",
   "metadata": {},
   "source": [
    "## Stage 1. Data overview <a id='data_review'></a>\n",
    "\n",
    "Open and explore the data."
   ]
  },
  {
   "cell_type": "markdown",
   "id": "e86ed00e",
   "metadata": {},
   "source": [
    "You'll need `pandas`, so import it."
   ]
  },
  {
   "cell_type": "code",
   "execution_count": 1,
   "id": "1727d3f8",
   "metadata": {},
   "outputs": [],
   "source": [
    "# importing pandas\n",
    "import pandas as pd"
   ]
  },
  {
   "cell_type": "markdown",
   "id": "9821beeb",
   "metadata": {},
   "source": [
    "Read the `movies_and_shows.csv` file from the `datasets` folder and save it in the `df` variable:"
   ]
  },
  {
   "cell_type": "code",
   "execution_count": 2,
   "id": "fc5a1402",
   "metadata": {},
   "outputs": [],
   "source": [
    "# reading the files and storing them to df\n",
    "df = pd.read_csv('/datasets/movies_and_shows.csv')"
   ]
  },
  {
   "cell_type": "markdown",
   "id": "1cd0a96d",
   "metadata": {},
   "source": [
    "Print the first 10 table rows:"
   ]
  },
  {
   "cell_type": "code",
   "execution_count": 3,
   "id": "acd92001",
   "metadata": {},
   "outputs": [
    {
     "data": {
      "text/html": [
       "<div>\n",
       "<style scoped>\n",
       "    .dataframe tbody tr th:only-of-type {\n",
       "        vertical-align: middle;\n",
       "    }\n",
       "\n",
       "    .dataframe tbody tr th {\n",
       "        vertical-align: top;\n",
       "    }\n",
       "\n",
       "    .dataframe thead th {\n",
       "        text-align: right;\n",
       "    }\n",
       "</style>\n",
       "<table border=\"1\" class=\"dataframe\">\n",
       "  <thead>\n",
       "    <tr style=\"text-align: right;\">\n",
       "      <th></th>\n",
       "      <th>name</th>\n",
       "      <th>Character</th>\n",
       "      <th>r0le</th>\n",
       "      <th>TITLE</th>\n",
       "      <th>Type</th>\n",
       "      <th>release Year</th>\n",
       "      <th>genres</th>\n",
       "      <th>imdb sc0re</th>\n",
       "      <th>imdb v0tes</th>\n",
       "    </tr>\n",
       "  </thead>\n",
       "  <tbody>\n",
       "    <tr>\n",
       "      <th>0</th>\n",
       "      <td>Robert De Niro</td>\n",
       "      <td>Travis Bickle</td>\n",
       "      <td>ACTOR</td>\n",
       "      <td>Taxi Driver</td>\n",
       "      <td>MOVIE</td>\n",
       "      <td>1976</td>\n",
       "      <td>['drama', 'crime']</td>\n",
       "      <td>8.2</td>\n",
       "      <td>808582.0</td>\n",
       "    </tr>\n",
       "    <tr>\n",
       "      <th>1</th>\n",
       "      <td>Jodie Foster</td>\n",
       "      <td>Iris Steensma</td>\n",
       "      <td>ACTOR</td>\n",
       "      <td>Taxi Driver</td>\n",
       "      <td>MOVIE</td>\n",
       "      <td>1976</td>\n",
       "      <td>['drama', 'crime']</td>\n",
       "      <td>8.2</td>\n",
       "      <td>808582.0</td>\n",
       "    </tr>\n",
       "    <tr>\n",
       "      <th>2</th>\n",
       "      <td>Albert Brooks</td>\n",
       "      <td>Tom</td>\n",
       "      <td>ACTOR</td>\n",
       "      <td>Taxi Driver</td>\n",
       "      <td>MOVIE</td>\n",
       "      <td>1976</td>\n",
       "      <td>['drama', 'crime']</td>\n",
       "      <td>8.2</td>\n",
       "      <td>808582.0</td>\n",
       "    </tr>\n",
       "    <tr>\n",
       "      <th>3</th>\n",
       "      <td>Harvey Keitel</td>\n",
       "      <td>Matthew 'Sport' Higgins</td>\n",
       "      <td>ACTOR</td>\n",
       "      <td>Taxi Driver</td>\n",
       "      <td>MOVIE</td>\n",
       "      <td>1976</td>\n",
       "      <td>['drama', 'crime']</td>\n",
       "      <td>8.2</td>\n",
       "      <td>808582.0</td>\n",
       "    </tr>\n",
       "    <tr>\n",
       "      <th>4</th>\n",
       "      <td>Cybill Shepherd</td>\n",
       "      <td>Betsy</td>\n",
       "      <td>ACTOR</td>\n",
       "      <td>Taxi Driver</td>\n",
       "      <td>MOVIE</td>\n",
       "      <td>1976</td>\n",
       "      <td>['drama', 'crime']</td>\n",
       "      <td>8.2</td>\n",
       "      <td>808582.0</td>\n",
       "    </tr>\n",
       "    <tr>\n",
       "      <th>5</th>\n",
       "      <td>Peter Boyle</td>\n",
       "      <td>Wizard</td>\n",
       "      <td>ACTOR</td>\n",
       "      <td>Taxi Driver</td>\n",
       "      <td>MOVIE</td>\n",
       "      <td>1976</td>\n",
       "      <td>['drama', 'crime']</td>\n",
       "      <td>8.2</td>\n",
       "      <td>808582.0</td>\n",
       "    </tr>\n",
       "    <tr>\n",
       "      <th>6</th>\n",
       "      <td>Leonard Harris</td>\n",
       "      <td>Senator Charles Palantine</td>\n",
       "      <td>ACTOR</td>\n",
       "      <td>Taxi Driver</td>\n",
       "      <td>MOVIE</td>\n",
       "      <td>1976</td>\n",
       "      <td>['drama', 'crime']</td>\n",
       "      <td>8.2</td>\n",
       "      <td>808582.0</td>\n",
       "    </tr>\n",
       "    <tr>\n",
       "      <th>7</th>\n",
       "      <td>Diahnne Abbott</td>\n",
       "      <td>Concession Girl</td>\n",
       "      <td>ACTOR</td>\n",
       "      <td>Taxi Driver</td>\n",
       "      <td>MOVIE</td>\n",
       "      <td>1976</td>\n",
       "      <td>['drama', 'crime']</td>\n",
       "      <td>8.2</td>\n",
       "      <td>808582.0</td>\n",
       "    </tr>\n",
       "    <tr>\n",
       "      <th>8</th>\n",
       "      <td>Gino Ardito</td>\n",
       "      <td>Policeman at Rally</td>\n",
       "      <td>ACTOR</td>\n",
       "      <td>Taxi Driver</td>\n",
       "      <td>MOVIE</td>\n",
       "      <td>1976</td>\n",
       "      <td>['drama', 'crime']</td>\n",
       "      <td>8.2</td>\n",
       "      <td>808582.0</td>\n",
       "    </tr>\n",
       "    <tr>\n",
       "      <th>9</th>\n",
       "      <td>Martin Scorsese</td>\n",
       "      <td>Passenger Watching Silhouette</td>\n",
       "      <td>ACTOR</td>\n",
       "      <td>Taxi Driver</td>\n",
       "      <td>MOVIE</td>\n",
       "      <td>1976</td>\n",
       "      <td>['drama', 'crime']</td>\n",
       "      <td>8.2</td>\n",
       "      <td>808582.0</td>\n",
       "    </tr>\n",
       "  </tbody>\n",
       "</table>\n",
       "</div>"
      ],
      "text/plain": [
       "              name                      Character   r0le        TITLE   Type  \\\n",
       "0   Robert De Niro                  Travis Bickle  ACTOR  Taxi Driver  MOVIE   \n",
       "1     Jodie Foster                  Iris Steensma  ACTOR  Taxi Driver  MOVIE   \n",
       "2    Albert Brooks                            Tom  ACTOR  Taxi Driver  MOVIE   \n",
       "3    Harvey Keitel        Matthew 'Sport' Higgins  ACTOR  Taxi Driver  MOVIE   \n",
       "4  Cybill Shepherd                          Betsy  ACTOR  Taxi Driver  MOVIE   \n",
       "5      Peter Boyle                         Wizard  ACTOR  Taxi Driver  MOVIE   \n",
       "6   Leonard Harris      Senator Charles Palantine  ACTOR  Taxi Driver  MOVIE   \n",
       "7   Diahnne Abbott                Concession Girl  ACTOR  Taxi Driver  MOVIE   \n",
       "8      Gino Ardito             Policeman at Rally  ACTOR  Taxi Driver  MOVIE   \n",
       "9  Martin Scorsese  Passenger Watching Silhouette  ACTOR  Taxi Driver  MOVIE   \n",
       "\n",
       "   release Year              genres  imdb sc0re  imdb v0tes  \n",
       "0          1976  ['drama', 'crime']         8.2    808582.0  \n",
       "1          1976  ['drama', 'crime']         8.2    808582.0  \n",
       "2          1976  ['drama', 'crime']         8.2    808582.0  \n",
       "3          1976  ['drama', 'crime']         8.2    808582.0  \n",
       "4          1976  ['drama', 'crime']         8.2    808582.0  \n",
       "5          1976  ['drama', 'crime']         8.2    808582.0  \n",
       "6          1976  ['drama', 'crime']         8.2    808582.0  \n",
       "7          1976  ['drama', 'crime']         8.2    808582.0  \n",
       "8          1976  ['drama', 'crime']         8.2    808582.0  \n",
       "9          1976  ['drama', 'crime']         8.2    808582.0  "
      ]
     },
     "execution_count": 3,
     "metadata": {},
     "output_type": "execute_result"
    }
   ],
   "source": [
    "# obtaining the first 10 rows from the df table\n",
    "# hint: you can use head() and tail() in Jupyter Notebook without wrapping them into print()\n",
    "df.head(10)"
   ]
  },
  {
   "cell_type": "markdown",
   "id": "e579aa91",
   "metadata": {},
   "source": [
    "Obtain the general information about the table with one command:"
   ]
  },
  {
   "cell_type": "code",
   "execution_count": 4,
   "id": "7bf66d2a",
   "metadata": {},
   "outputs": [
    {
     "name": "stdout",
     "output_type": "stream",
     "text": [
      "<class 'pandas.core.frame.DataFrame'>\n",
      "RangeIndex: 85579 entries, 0 to 85578\n",
      "Data columns (total 9 columns):\n",
      " #   Column        Non-Null Count  Dtype  \n",
      "---  ------        --------------  -----  \n",
      " 0      name       85579 non-null  object \n",
      " 1   Character     85579 non-null  object \n",
      " 2   r0le          85579 non-null  object \n",
      " 3   TITLE         85578 non-null  object \n",
      " 4     Type        85579 non-null  object \n",
      " 5   release Year  85579 non-null  int64  \n",
      " 6   genres        85579 non-null  object \n",
      " 7   imdb sc0re    80970 non-null  float64\n",
      " 8   imdb v0tes    80853 non-null  float64\n",
      "dtypes: float64(2), int64(1), object(6)\n",
      "memory usage: 5.9+ MB\n"
     ]
    }
   ],
   "source": [
    "# obtaining general information about the data in df\n",
    "df.info()"
   ]
  },
  {
   "cell_type": "markdown",
   "id": "e91f62a7",
   "metadata": {},
   "source": [
    "The table contains nine columns. The majority store the same data type: object. The only exceptions are `'release Year'` (int64 type), `'imdb sc0re'` (float64 type) and `'imdb v0tes'` (float64 type). Scores and votes will be used in our analysis, so it's important to verify that they are present in the dataframe in the appropriate numeric format. Three columns (`'TITLE'`, `'imdb sc0re'` and `'imdb v0tes'`) have missing values.\n",
    "\n",
    "According to the documentation:\n",
    "- `'name'` — actor/director's name and last name\n",
    "- `'Character'` — character played (for actors)\n",
    "- `'r0le '` — the person's contribution to the title (it can be in the capacity of either actor or director)\n",
    "- `'TITLE '` — title of the movie (show)\n",
    "- `'  Type'` — show or movie\n",
    "- `'release Year'` — year when movie (show) was released\n",
    "- `'genres'` — list of genres under which the movie (show) falls\n",
    "- `'imdb sc0re'` — score on IMDb\n",
    "- `'imdb v0tes'` — votes on IMDb\n",
    "\n",
    "We can see three issues with the column names:\n",
    "1. Some names are uppercase, while others are lowercase.\n",
    "2. There are names containing whitespace.\n",
    "3. A few column names have digit '0' instead of letter 'o'. \n"
   ]
  },
  {
   "cell_type": "markdown",
   "id": "fd90a054",
   "metadata": {},
   "source": [
    "<div class=\"alert alert-block alert-warning\">📝\n",
    "    \n",
    "\n",
    "__Reviewer's comment №1__\n",
    "\n",
    "You can also look at the data using the describe() method\n",
    "    \n"
   ]
  },
  {
   "cell_type": "markdown",
   "id": "4355de7b",
   "metadata": {},
   "source": [
    "### Conclusions <a id='data_review_conclusions'></a> \n",
    "\n",
    "Each row in the table stores data about a movie or show. The columns can be divided into two categories: the first is about the roles held by different people who worked on the movie or show (role, name of the actor or director, and character if the row is about an actor); the second category is information about the movie or show itself (title, release year, genre, imdb figures).\n",
    "\n",
    "It's clear that there is sufficient data to do the analysis and evaluate our assumption. However, to move forward, we need to preprocess the data."
   ]
  },
  {
   "cell_type": "markdown",
   "id": "63ffa8e6",
   "metadata": {},
   "source": [
    "<div class=\"alert alert-block alert-success\">✔️\n",
    "    \n",
    "\n",
    "__Reviewer's comment №1__\n",
    "\n",
    "It's all good here. The conclusions in this project are very well laid out, indicating the problems that need to be solved next."
   ]
  },
  {
   "cell_type": "markdown",
   "id": "c5dc9111",
   "metadata": {},
   "source": [
    "## Stage 2. Data preprocessing <a id='data_preprocessing'></a>\n",
    "Correct the formatting in the column headers and deal with the missing values. Then, check whether there are duplicates in the data."
   ]
  },
  {
   "cell_type": "code",
   "execution_count": 5,
   "id": "9c850d13",
   "metadata": {},
   "outputs": [
    {
     "data": {
      "text/plain": [
       "Index(['   name', 'Character', 'r0le', 'TITLE', '  Type', 'release Year',\n",
       "       'genres', 'imdb sc0re', 'imdb v0tes'],\n",
       "      dtype='object')"
      ]
     },
     "execution_count": 5,
     "metadata": {},
     "output_type": "execute_result"
    }
   ],
   "source": [
    "# the list of column names in the df table\n",
    "df.columns"
   ]
  },
  {
   "cell_type": "markdown",
   "id": "5f966df9",
   "metadata": {},
   "source": [
    "Change the column names according to the rules of good style:\n",
    "* If the name has several words, use snake_case\n",
    "* All characters must be lowercase\n",
    "* Remove whitespace\n",
    "* Replace zero with letter 'o'"
   ]
  },
  {
   "cell_type": "code",
   "execution_count": 6,
   "id": "23a1dc11",
   "metadata": {},
   "outputs": [],
   "source": [
    "# renaming columns\n",
    "df.columns = df.columns.str.strip().str.lower().str.replace('0', 'o').str.replace(' ', '_')"
   ]
  },
  {
   "cell_type": "markdown",
   "id": "464fbd04",
   "metadata": {},
   "source": [
    "Check the result. Print the names of the columns once more:"
   ]
  },
  {
   "cell_type": "code",
   "execution_count": 7,
   "id": "0eb6527f",
   "metadata": {},
   "outputs": [
    {
     "data": {
      "text/plain": [
       "Index(['name', 'character', 'role', 'title', 'type', 'release_year', 'genres',\n",
       "       'imdb_score', 'imdb_votes'],\n",
       "      dtype='object')"
      ]
     },
     "execution_count": 7,
     "metadata": {},
     "output_type": "execute_result"
    }
   ],
   "source": [
    "# checking result: the list of column names\n",
    "df.columns"
   ]
  },
  {
   "cell_type": "markdown",
   "id": "14d9c319",
   "metadata": {},
   "source": [
    "### Missing values <a id='missing_values'></a>\n",
    "First, find the number of missing values in the table. To do so, combine two `pandas` methods:"
   ]
  },
  {
   "cell_type": "code",
   "execution_count": 8,
   "id": "21c427f2",
   "metadata": {},
   "outputs": [
    {
     "data": {
      "text/plain": [
       "name               0\n",
       "character          0\n",
       "role               0\n",
       "title              1\n",
       "type               0\n",
       "release_year       0\n",
       "genres             0\n",
       "imdb_score      4609\n",
       "imdb_votes      4726\n",
       "dtype: int64"
      ]
     },
     "execution_count": 8,
     "metadata": {},
     "output_type": "execute_result"
    }
   ],
   "source": [
    "# calculating missing values\n",
    "df.isna().sum()"
   ]
  },
  {
   "cell_type": "markdown",
   "id": "c8272df3",
   "metadata": {},
   "source": [
    "We identified missing values in several columns. While the missing value in `'title'` isn't critical, missing values in `'imdb_score'` and `'imdb_votes'` affect around 6% of the data, which could impact our analysis. To ensure data integrity, we'll drop all rows with missing values."
   ]
  },
  {
   "cell_type": "code",
   "execution_count": 9,
   "id": "599d5550",
   "metadata": {},
   "outputs": [],
   "source": [
    "# dropping rows where columns with scores, and votes have missing values\n",
    "df = df.dropna(axis='rows')"
   ]
  },
  {
   "cell_type": "markdown",
   "id": "2156887f",
   "metadata": {},
   "source": [
    "Make sure the table doesn't contain any more missing values. Count the missing values again."
   ]
  },
  {
   "cell_type": "code",
   "execution_count": 10,
   "id": "55c0b0ce",
   "metadata": {},
   "outputs": [
    {
     "data": {
      "text/plain": [
       "name            0\n",
       "character       0\n",
       "role            0\n",
       "title           0\n",
       "type            0\n",
       "release_year    0\n",
       "genres          0\n",
       "imdb_score      0\n",
       "imdb_votes      0\n",
       "dtype: int64"
      ]
     },
     "execution_count": 10,
     "metadata": {},
     "output_type": "execute_result"
    }
   ],
   "source": [
    "# counting missing values\n",
    "df.isna().sum()"
   ]
  },
  {
   "cell_type": "markdown",
   "id": "a7dc7aa0",
   "metadata": {},
   "source": [
    "### Duplicates <a id='duplicates'></a>\n",
    "Find the number of duplicate rows in the table using one command:"
   ]
  },
  {
   "cell_type": "code",
   "execution_count": 11,
   "id": "9227df01",
   "metadata": {},
   "outputs": [
    {
     "data": {
      "text/plain": [
       "6994"
      ]
     },
     "execution_count": 11,
     "metadata": {},
     "output_type": "execute_result"
    }
   ],
   "source": [
    "# counting duplicate rows\n",
    "duplicates_num = df.duplicated().sum()\n",
    "duplicates_num"
   ]
  },
  {
   "cell_type": "markdown",
   "id": "5f6eb0fc",
   "metadata": {},
   "source": [
    "Review the duplicate rows to determine if removing them would distort our dataset."
   ]
  },
  {
   "cell_type": "code",
   "execution_count": 12,
   "id": "bcf32fcb",
   "metadata": {},
   "outputs": [
    {
     "data": {
      "text/plain": [
       "85574    False\n",
       "85575    False\n",
       "85576    False\n",
       "85577     True\n",
       "85578    False\n",
       "dtype: bool"
      ]
     },
     "execution_count": 12,
     "metadata": {},
     "output_type": "execute_result"
    }
   ],
   "source": [
    "# Produce table with duplicates (with original rows included) and review last 5 rows\n",
    "duplicates = df.duplicated()\n",
    "last_5_duplicates = duplicates.tail(5)\n",
    "last_5_duplicates"
   ]
  },
  {
   "cell_type": "markdown",
   "id": "a1ed6640",
   "metadata": {},
   "source": [
    "There are two clear duplicates in the printed rows. We can safely remove them.\n",
    "Call the `pandas` method for getting rid of duplicate rows:"
   ]
  },
  {
   "cell_type": "code",
   "execution_count": 13,
   "id": "724d5bc8",
   "metadata": {},
   "outputs": [],
   "source": [
    "# removing duplicate rows\n",
    "df = df.drop_duplicates()"
   ]
  },
  {
   "cell_type": "markdown",
   "id": "fc8c77ba",
   "metadata": {},
   "source": [
    "Check for duplicate rows once more to make sure you have removed all of them:"
   ]
  },
  {
   "cell_type": "code",
   "execution_count": 14,
   "id": "8091a9bc",
   "metadata": {},
   "outputs": [
    {
     "data": {
      "text/plain": [
       "0"
      ]
     },
     "execution_count": 14,
     "metadata": {},
     "output_type": "execute_result"
    }
   ],
   "source": [
    "# checking for duplicates\n",
    "df.duplicated().sum()"
   ]
  },
  {
   "cell_type": "markdown",
   "id": "8e47f7bb",
   "metadata": {},
   "source": [
    "<div class=\"alert alert-block alert-success\">✔️\n",
    "    \n",
    "\n",
    "__Reviewer's comment №1__\n",
    "\n",
    "Duplicate checking is the basis of data preprocessing"
   ]
  },
  {
   "cell_type": "markdown",
   "id": "1d802b07",
   "metadata": {},
   "source": [
    "Now get rid of implicit duplicates in the `'type'` column. For example, the string `'SHOW'` can be written in different ways. These kinds of errors will also affect the result."
   ]
  },
  {
   "cell_type": "markdown",
   "id": "d5f987ed",
   "metadata": {},
   "source": [
    "Print a list of unique `'type'` names, sorted in alphabetical order. To do so:\n",
    "* Retrieve the intended dataframe column \n",
    "* Apply a sorting method to it\n",
    "* For the sorted column, call the method that will return all unique column values"
   ]
  },
  {
   "cell_type": "code",
   "execution_count": 15,
   "id": "3d7b0ac5",
   "metadata": {},
   "outputs": [
    {
     "data": {
      "text/plain": [
       "['movie',\n",
       " 'movies',\n",
       " 'show',\n",
       " 'shows',\n",
       " 'the movie',\n",
       " 'tv',\n",
       " 'tv series',\n",
       " 'tv show',\n",
       " 'tv shows']"
      ]
     },
     "execution_count": 15,
     "metadata": {},
     "output_type": "execute_result"
    }
   ],
   "source": [
    "# viewing unique type names\n",
    "df['type'] = df['type'].str.lower().str.strip()\n",
    "unique_types = sorted(df['type'].unique())\n",
    "unique_types"
   ]
  },
  {
   "cell_type": "markdown",
   "id": "ac6e8b18",
   "metadata": {},
   "source": [
    "Look through the list to find implicit duplicates of `'show'` (`'movie'` duplicates will be ignored since the assumption is about shows). These could be names written incorrectly or alternative names of the same genre.\n",
    "\n",
    "You will see the following implicit duplicates:\n",
    "* `'shows'`\n",
    "* `'SHOW'`\n",
    "* `'tv show'`\n",
    "* `'tv shows'`\n",
    "* `'tv series'`\n",
    "* `'tv'`\n",
    "\n",
    "To get rid of them, declare the function `replace_wrong_show()` with two parameters: \n",
    "* `wrong_shows_list=` — the list of duplicates\n",
    "* `correct_show=` — the string with the correct value\n",
    "\n",
    "The function should correct the names in the `'type'` column from the `df` table (i.e., replace each value from the `wrong_shows_list` list with the value in `correct_show`)."
   ]
  },
  {
   "cell_type": "code",
   "execution_count": 16,
   "id": "bff944f9",
   "metadata": {},
   "outputs": [],
   "source": [
    "# function for replacing implicit duplicates\n",
    "def replace_wrong_show (df, wrong_shows_list, correct_show):\n",
    "    for wrong_show in wrong_shows_list:\n",
    "        df['type'] = df['type'].replace(wrong_show, correct_show)\n",
    "\n",
    "# defining list of wrong show names and the correct show name\n",
    "wrong_shows_list = ['shows', 'tv', 'tv series', 'tv show', 'tv shows', 'show']\n",
    "correct_show = 'SHOW'"
   ]
  },
  {
   "cell_type": "markdown",
   "id": "7361044e",
   "metadata": {},
   "source": [
    "<div class=\"alert alert-block alert-success\">✔️\n",
    "    \n",
    "\n",
    "__Reviewer's comment №1__\n",
    "\n",
    "Great code"
   ]
  },
  {
   "cell_type": "markdown",
   "id": "d02d13a6",
   "metadata": {},
   "source": [
    "Call `replace_wrong_show()` and pass it arguments so that it clears implicit duplicates and replaces them with `SHOW`:"
   ]
  },
  {
   "cell_type": "code",
   "execution_count": 17,
   "id": "a2217e53",
   "metadata": {},
   "outputs": [],
   "source": [
    "# removing implicit duplicates\n",
    "replace_wrong_show(df, wrong_shows_list, correct_show)"
   ]
  },
  {
   "cell_type": "markdown",
   "id": "318b09f7",
   "metadata": {},
   "source": [
    "Make sure the duplicate names are removed. Print the list of unique values from the `'type'` column:"
   ]
  },
  {
   "cell_type": "code",
   "execution_count": 18,
   "id": "25d49d73",
   "metadata": {},
   "outputs": [
    {
     "data": {
      "text/plain": [
       "['SHOW', 'movie', 'movies', 'the movie']"
      ]
     },
     "execution_count": 18,
     "metadata": {},
     "output_type": "execute_result"
    }
   ],
   "source": [
    "# viewing unique genre names\n",
    "unique_types = sorted(df['type'].unique())\n",
    "unique_types"
   ]
  },
  {
   "cell_type": "markdown",
   "id": "18b2049e",
   "metadata": {},
   "source": [
    "### Conclusions <a id='data_preprocessing_conclusions'></a>\n",
    "We detected three issues with the data:\n",
    "\n",
    "- Incorrect header styles\n",
    "- Missing values\n",
    "- Duplicate rows and implicit duplicates\n",
    "\n",
    "The headers have been cleaned up to make processing the table simpler.\n",
    "\n",
    "All rows with missing values have been removed. \n",
    "\n",
    "The absence of duplicates will make the results more precise and easier to understand.\n",
    "\n",
    "Now we can move on to our analysis of the prepared data."
   ]
  },
  {
   "cell_type": "markdown",
   "id": "b38bd406",
   "metadata": {},
   "source": [
    "<div class=\"alert alert-block alert-success\">✔️\n",
    "    \n",
    "\n",
    "__Reviewer's comment №1__\n",
    "\n",
    "Great!"
   ]
  },
  {
   "cell_type": "markdown",
   "id": "1aa0f1b1",
   "metadata": {},
   "source": [
    "## Stage 3. Data analysis <a id='hypotheses'></a>"
   ]
  },
  {
   "cell_type": "markdown",
   "id": "f8fb6a0e",
   "metadata": {},
   "source": [
    "Based on the previous project stages, you can now define how the assumption will be checked. Calculate the average amount of votes for each score (this data is available in the `imdb_score` and `imdb_votes` columns), and then check how these averages relate to each other. If the averages for shows with the highest scores are bigger than those for shows with lower scores, the assumption appears to be true.\n",
    "\n",
    "Based on this, complete the following steps:\n",
    "\n",
    "- Filter the dataframe to only include shows released in 1999 or later.\n",
    "- Group scores into buckets by rounding the values of the appropriate column (a set of 1-10 integers will help us make the outcome of our calculations more evident without damaging the quality of our research).\n",
    "- Identify outliers among scores based on their number of votes, and exclude scores with few votes.\n",
    "- Calculate the average votes for each score and check whether the assumption matches the results."
   ]
  },
  {
   "cell_type": "markdown",
   "id": "0ea2cb51",
   "metadata": {},
   "source": [
    "To filter the dataframe and only include shows released in 1999 or later, you will take two steps. First, keep only titles published in 1999 or later in our dataframe. Then, filter the table to only contain shows (movies will be removed)."
   ]
  },
  {
   "cell_type": "code",
   "execution_count": 19,
   "id": "6a704aa1",
   "metadata": {},
   "outputs": [
    {
     "data": {
      "text/html": [
       "<div>\n",
       "<style scoped>\n",
       "    .dataframe tbody tr th:only-of-type {\n",
       "        vertical-align: middle;\n",
       "    }\n",
       "\n",
       "    .dataframe tbody tr th {\n",
       "        vertical-align: top;\n",
       "    }\n",
       "\n",
       "    .dataframe thead th {\n",
       "        text-align: right;\n",
       "    }\n",
       "</style>\n",
       "<table border=\"1\" class=\"dataframe\">\n",
       "  <thead>\n",
       "    <tr style=\"text-align: right;\">\n",
       "      <th></th>\n",
       "      <th>name</th>\n",
       "      <th>character</th>\n",
       "      <th>role</th>\n",
       "      <th>title</th>\n",
       "      <th>type</th>\n",
       "      <th>release_year</th>\n",
       "      <th>genres</th>\n",
       "      <th>imdb_score</th>\n",
       "      <th>imdb_votes</th>\n",
       "    </tr>\n",
       "  </thead>\n",
       "  <tbody>\n",
       "    <tr>\n",
       "      <th>1664</th>\n",
       "      <td>Jeff Probst</td>\n",
       "      <td>Himself - Host</td>\n",
       "      <td>ACTOR</td>\n",
       "      <td>Survivor</td>\n",
       "      <td>SHOW</td>\n",
       "      <td>2000</td>\n",
       "      <td>['reality']</td>\n",
       "      <td>7.4</td>\n",
       "      <td>24687.0</td>\n",
       "    </tr>\n",
       "    <tr>\n",
       "      <th>1955</th>\n",
       "      <td>Benicio del Toro</td>\n",
       "      <td>Franky Four Fingers</td>\n",
       "      <td>ACTOR</td>\n",
       "      <td>Snatch</td>\n",
       "      <td>movie</td>\n",
       "      <td>2000</td>\n",
       "      <td>['crime', 'comedy']</td>\n",
       "      <td>8.3</td>\n",
       "      <td>841435.0</td>\n",
       "    </tr>\n",
       "    <tr>\n",
       "      <th>1956</th>\n",
       "      <td>Dennis Farina</td>\n",
       "      <td>Cousin Avi</td>\n",
       "      <td>ACTOR</td>\n",
       "      <td>Snatch</td>\n",
       "      <td>movie</td>\n",
       "      <td>2000</td>\n",
       "      <td>['crime', 'comedy']</td>\n",
       "      <td>8.3</td>\n",
       "      <td>841435.0</td>\n",
       "    </tr>\n",
       "    <tr>\n",
       "      <th>1957</th>\n",
       "      <td>Vinnie Jones</td>\n",
       "      <td>Bullet Tooth Tony</td>\n",
       "      <td>ACTOR</td>\n",
       "      <td>Snatch</td>\n",
       "      <td>movie</td>\n",
       "      <td>2000</td>\n",
       "      <td>['crime', 'comedy']</td>\n",
       "      <td>8.3</td>\n",
       "      <td>841435.0</td>\n",
       "    </tr>\n",
       "    <tr>\n",
       "      <th>1958</th>\n",
       "      <td>Brad Pitt</td>\n",
       "      <td>Mickey O'Neil</td>\n",
       "      <td>ACTOR</td>\n",
       "      <td>Snatch</td>\n",
       "      <td>movie</td>\n",
       "      <td>2000</td>\n",
       "      <td>['crime', 'comedy']</td>\n",
       "      <td>8.3</td>\n",
       "      <td>841435.0</td>\n",
       "    </tr>\n",
       "    <tr>\n",
       "      <th>...</th>\n",
       "      <td>...</td>\n",
       "      <td>...</td>\n",
       "      <td>...</td>\n",
       "      <td>...</td>\n",
       "      <td>...</td>\n",
       "      <td>...</td>\n",
       "      <td>...</td>\n",
       "      <td>...</td>\n",
       "      <td>...</td>\n",
       "    </tr>\n",
       "    <tr>\n",
       "      <th>85573</th>\n",
       "      <td>A??da Morales</td>\n",
       "      <td>Maritza</td>\n",
       "      <td>ACTOR</td>\n",
       "      <td>Lokillo</td>\n",
       "      <td>the movie</td>\n",
       "      <td>2021</td>\n",
       "      <td>['comedy']</td>\n",
       "      <td>3.8</td>\n",
       "      <td>68.0</td>\n",
       "    </tr>\n",
       "    <tr>\n",
       "      <th>85574</th>\n",
       "      <td>Adelaida Buscato</td>\n",
       "      <td>Mar??a Paz</td>\n",
       "      <td>ACTOR</td>\n",
       "      <td>Lokillo</td>\n",
       "      <td>the movie</td>\n",
       "      <td>2021</td>\n",
       "      <td>['comedy']</td>\n",
       "      <td>3.8</td>\n",
       "      <td>68.0</td>\n",
       "    </tr>\n",
       "    <tr>\n",
       "      <th>85575</th>\n",
       "      <td>Luz Stella Luengas</td>\n",
       "      <td>Karen Bayona</td>\n",
       "      <td>ACTOR</td>\n",
       "      <td>Lokillo</td>\n",
       "      <td>the movie</td>\n",
       "      <td>2021</td>\n",
       "      <td>['comedy']</td>\n",
       "      <td>3.8</td>\n",
       "      <td>68.0</td>\n",
       "    </tr>\n",
       "    <tr>\n",
       "      <th>85576</th>\n",
       "      <td>In??s Prieto</td>\n",
       "      <td>Fanny</td>\n",
       "      <td>ACTOR</td>\n",
       "      <td>Lokillo</td>\n",
       "      <td>the movie</td>\n",
       "      <td>2021</td>\n",
       "      <td>['comedy']</td>\n",
       "      <td>3.8</td>\n",
       "      <td>68.0</td>\n",
       "    </tr>\n",
       "    <tr>\n",
       "      <th>85578</th>\n",
       "      <td>Julian Gaviria</td>\n",
       "      <td>unknown</td>\n",
       "      <td>DIRECTOR</td>\n",
       "      <td>Lokillo</td>\n",
       "      <td>the movie</td>\n",
       "      <td>2021</td>\n",
       "      <td>['comedy']</td>\n",
       "      <td>3.8</td>\n",
       "      <td>68.0</td>\n",
       "    </tr>\n",
       "  </tbody>\n",
       "</table>\n",
       "<p>69881 rows × 9 columns</p>\n",
       "</div>"
      ],
      "text/plain": [
       "                     name            character      role     title       type  \\\n",
       "1664          Jeff Probst       Himself - Host     ACTOR  Survivor       SHOW   \n",
       "1955     Benicio del Toro  Franky Four Fingers     ACTOR    Snatch      movie   \n",
       "1956        Dennis Farina           Cousin Avi     ACTOR    Snatch      movie   \n",
       "1957         Vinnie Jones    Bullet Tooth Tony     ACTOR    Snatch      movie   \n",
       "1958            Brad Pitt        Mickey O'Neil     ACTOR    Snatch      movie   \n",
       "...                   ...                  ...       ...       ...        ...   \n",
       "85573       A??da Morales              Maritza     ACTOR   Lokillo  the movie   \n",
       "85574    Adelaida Buscato           Mar??a Paz     ACTOR   Lokillo  the movie   \n",
       "85575  Luz Stella Luengas         Karen Bayona     ACTOR   Lokillo  the movie   \n",
       "85576        In??s Prieto                Fanny     ACTOR   Lokillo  the movie   \n",
       "85578      Julian Gaviria              unknown  DIRECTOR   Lokillo  the movie   \n",
       "\n",
       "       release_year               genres  imdb_score  imdb_votes  \n",
       "1664           2000          ['reality']         7.4     24687.0  \n",
       "1955           2000  ['crime', 'comedy']         8.3    841435.0  \n",
       "1956           2000  ['crime', 'comedy']         8.3    841435.0  \n",
       "1957           2000  ['crime', 'comedy']         8.3    841435.0  \n",
       "1958           2000  ['crime', 'comedy']         8.3    841435.0  \n",
       "...             ...                  ...         ...         ...  \n",
       "85573          2021           ['comedy']         3.8        68.0  \n",
       "85574          2021           ['comedy']         3.8        68.0  \n",
       "85575          2021           ['comedy']         3.8        68.0  \n",
       "85576          2021           ['comedy']         3.8        68.0  \n",
       "85578          2021           ['comedy']         3.8        68.0  \n",
       "\n",
       "[69881 rows x 9 columns]"
      ]
     },
     "execution_count": 19,
     "metadata": {},
     "output_type": "execute_result"
    }
   ],
   "source": [
    "# using conditional indexing modify df so it has only titles released after 1999 (with 1999 included)\n",
    "# give the slice of dataframe new name\n",
    "df_filtered = df[df['release_year'] >= 1999]\n",
    "df_filtered"
   ]
  },
  {
   "cell_type": "code",
   "execution_count": 20,
   "id": "128dc6a9",
   "metadata": {
    "scrolled": false
   },
   "outputs": [
    {
     "data": {
      "text/html": [
       "<div>\n",
       "<style scoped>\n",
       "    .dataframe tbody tr th:only-of-type {\n",
       "        vertical-align: middle;\n",
       "    }\n",
       "\n",
       "    .dataframe tbody tr th {\n",
       "        vertical-align: top;\n",
       "    }\n",
       "\n",
       "    .dataframe thead th {\n",
       "        text-align: right;\n",
       "    }\n",
       "</style>\n",
       "<table border=\"1\" class=\"dataframe\">\n",
       "  <thead>\n",
       "    <tr style=\"text-align: right;\">\n",
       "      <th></th>\n",
       "      <th>name</th>\n",
       "      <th>character</th>\n",
       "      <th>role</th>\n",
       "      <th>title</th>\n",
       "      <th>type</th>\n",
       "      <th>release_year</th>\n",
       "      <th>genres</th>\n",
       "      <th>imdb_score</th>\n",
       "      <th>imdb_votes</th>\n",
       "    </tr>\n",
       "  </thead>\n",
       "  <tbody>\n",
       "    <tr>\n",
       "      <th>1664</th>\n",
       "      <td>Jeff Probst</td>\n",
       "      <td>Himself - Host</td>\n",
       "      <td>ACTOR</td>\n",
       "      <td>Survivor</td>\n",
       "      <td>SHOW</td>\n",
       "      <td>2000</td>\n",
       "      <td>['reality']</td>\n",
       "      <td>7.4</td>\n",
       "      <td>24687.0</td>\n",
       "    </tr>\n",
       "    <tr>\n",
       "      <th>2076</th>\n",
       "      <td>Mayumi Tanaka</td>\n",
       "      <td>Monkey D. Luffy (voice)</td>\n",
       "      <td>ACTOR</td>\n",
       "      <td>One Piece</td>\n",
       "      <td>SHOW</td>\n",
       "      <td>1999</td>\n",
       "      <td>['animation', 'action', 'comedy', 'drama', 'fa...</td>\n",
       "      <td>8.8</td>\n",
       "      <td>117129.0</td>\n",
       "    </tr>\n",
       "    <tr>\n",
       "      <th>2077</th>\n",
       "      <td>Kazuya Nakai</td>\n",
       "      <td>Roronoa Zoro (voice)</td>\n",
       "      <td>ACTOR</td>\n",
       "      <td>One Piece</td>\n",
       "      <td>SHOW</td>\n",
       "      <td>1999</td>\n",
       "      <td>['animation', 'action', 'comedy', 'drama', 'fa...</td>\n",
       "      <td>8.8</td>\n",
       "      <td>117129.0</td>\n",
       "    </tr>\n",
       "    <tr>\n",
       "      <th>2078</th>\n",
       "      <td>Akemi Okamura</td>\n",
       "      <td>Nami (voice)</td>\n",
       "      <td>ACTOR</td>\n",
       "      <td>One Piece</td>\n",
       "      <td>SHOW</td>\n",
       "      <td>1999</td>\n",
       "      <td>['animation', 'action', 'comedy', 'drama', 'fa...</td>\n",
       "      <td>8.8</td>\n",
       "      <td>117129.0</td>\n",
       "    </tr>\n",
       "    <tr>\n",
       "      <th>2079</th>\n",
       "      <td>Kappei Yamaguchi</td>\n",
       "      <td>Usopp (voice)</td>\n",
       "      <td>ACTOR</td>\n",
       "      <td>One Piece</td>\n",
       "      <td>SHOW</td>\n",
       "      <td>1999</td>\n",
       "      <td>['animation', 'action', 'comedy', 'drama', 'fa...</td>\n",
       "      <td>8.8</td>\n",
       "      <td>117129.0</td>\n",
       "    </tr>\n",
       "    <tr>\n",
       "      <th>...</th>\n",
       "      <td>...</td>\n",
       "      <td>...</td>\n",
       "      <td>...</td>\n",
       "      <td>...</td>\n",
       "      <td>...</td>\n",
       "      <td>...</td>\n",
       "      <td>...</td>\n",
       "      <td>...</td>\n",
       "      <td>...</td>\n",
       "    </tr>\n",
       "    <tr>\n",
       "      <th>85433</th>\n",
       "      <td>Maneerat Kam-Uan</td>\n",
       "      <td>Ae</td>\n",
       "      <td>ACTOR</td>\n",
       "      <td>Let's Eat</td>\n",
       "      <td>SHOW</td>\n",
       "      <td>2021</td>\n",
       "      <td>['drama', 'comedy']</td>\n",
       "      <td>8.2</td>\n",
       "      <td>5.0</td>\n",
       "    </tr>\n",
       "    <tr>\n",
       "      <th>85434</th>\n",
       "      <td>Rudklao Amratisha</td>\n",
       "      <td>unknown</td>\n",
       "      <td>ACTOR</td>\n",
       "      <td>Let's Eat</td>\n",
       "      <td>SHOW</td>\n",
       "      <td>2021</td>\n",
       "      <td>['drama', 'comedy']</td>\n",
       "      <td>8.2</td>\n",
       "      <td>5.0</td>\n",
       "    </tr>\n",
       "    <tr>\n",
       "      <th>85435</th>\n",
       "      <td>Jaturong Mokjok</td>\n",
       "      <td>unknown</td>\n",
       "      <td>ACTOR</td>\n",
       "      <td>Let's Eat</td>\n",
       "      <td>SHOW</td>\n",
       "      <td>2021</td>\n",
       "      <td>['drama', 'comedy']</td>\n",
       "      <td>8.2</td>\n",
       "      <td>5.0</td>\n",
       "    </tr>\n",
       "    <tr>\n",
       "      <th>85436</th>\n",
       "      <td>Pisamai Wilaisak</td>\n",
       "      <td>unknown</td>\n",
       "      <td>ACTOR</td>\n",
       "      <td>Let's Eat</td>\n",
       "      <td>SHOW</td>\n",
       "      <td>2021</td>\n",
       "      <td>['drama', 'comedy']</td>\n",
       "      <td>8.2</td>\n",
       "      <td>5.0</td>\n",
       "    </tr>\n",
       "    <tr>\n",
       "      <th>85437</th>\n",
       "      <td>Sarawut Wichiensarn</td>\n",
       "      <td>unknown</td>\n",
       "      <td>DIRECTOR</td>\n",
       "      <td>Let's Eat</td>\n",
       "      <td>SHOW</td>\n",
       "      <td>2021</td>\n",
       "      <td>['drama', 'comedy']</td>\n",
       "      <td>8.2</td>\n",
       "      <td>5.0</td>\n",
       "    </tr>\n",
       "  </tbody>\n",
       "</table>\n",
       "<p>13430 rows × 9 columns</p>\n",
       "</div>"
      ],
      "text/plain": [
       "                      name                character      role      title  \\\n",
       "1664           Jeff Probst           Himself - Host     ACTOR   Survivor   \n",
       "2076         Mayumi Tanaka  Monkey D. Luffy (voice)     ACTOR  One Piece   \n",
       "2077          Kazuya Nakai     Roronoa Zoro (voice)     ACTOR  One Piece   \n",
       "2078         Akemi Okamura             Nami (voice)     ACTOR  One Piece   \n",
       "2079      Kappei Yamaguchi            Usopp (voice)     ACTOR  One Piece   \n",
       "...                    ...                      ...       ...        ...   \n",
       "85433     Maneerat Kam-Uan                       Ae     ACTOR  Let's Eat   \n",
       "85434    Rudklao Amratisha                  unknown     ACTOR  Let's Eat   \n",
       "85435      Jaturong Mokjok                  unknown     ACTOR  Let's Eat   \n",
       "85436     Pisamai Wilaisak                  unknown     ACTOR  Let's Eat   \n",
       "85437  Sarawut Wichiensarn                  unknown  DIRECTOR  Let's Eat   \n",
       "\n",
       "       type  release_year                                             genres  \\\n",
       "1664   SHOW          2000                                        ['reality']   \n",
       "2076   SHOW          1999  ['animation', 'action', 'comedy', 'drama', 'fa...   \n",
       "2077   SHOW          1999  ['animation', 'action', 'comedy', 'drama', 'fa...   \n",
       "2078   SHOW          1999  ['animation', 'action', 'comedy', 'drama', 'fa...   \n",
       "2079   SHOW          1999  ['animation', 'action', 'comedy', 'drama', 'fa...   \n",
       "...     ...           ...                                                ...   \n",
       "85433  SHOW          2021                                ['drama', 'comedy']   \n",
       "85434  SHOW          2021                                ['drama', 'comedy']   \n",
       "85435  SHOW          2021                                ['drama', 'comedy']   \n",
       "85436  SHOW          2021                                ['drama', 'comedy']   \n",
       "85437  SHOW          2021                                ['drama', 'comedy']   \n",
       "\n",
       "       imdb_score  imdb_votes  \n",
       "1664          7.4     24687.0  \n",
       "2076          8.8    117129.0  \n",
       "2077          8.8    117129.0  \n",
       "2078          8.8    117129.0  \n",
       "2079          8.8    117129.0  \n",
       "...           ...         ...  \n",
       "85433         8.2         5.0  \n",
       "85434         8.2         5.0  \n",
       "85435         8.2         5.0  \n",
       "85436         8.2         5.0  \n",
       "85437         8.2         5.0  \n",
       "\n",
       "[13430 rows x 9 columns]"
      ]
     },
     "execution_count": 20,
     "metadata": {},
     "output_type": "execute_result"
    }
   ],
   "source": [
    "# repeat conditional indexing so df has only shows (movies are removed as result)\n",
    "df_filtered_show = df_filtered[df_filtered['type'] == 'SHOW']\n",
    "df_filtered_show"
   ]
  },
  {
   "cell_type": "markdown",
   "id": "d8b3b8af",
   "metadata": {},
   "source": [
    "<div class=\"alert alert-block alert-success\">✔️\n",
    "    \n",
    "\n",
    "__Reviewer's comment №1__\n",
    "\n",
    "All right"
   ]
  },
  {
   "cell_type": "markdown",
   "id": "9648040c",
   "metadata": {},
   "source": [
    "The scores that are to be grouped should be rounded. For instance, titles with scores like 7.8, 8.1, and 8.3 will all be placed in the same bucket with a score of 8."
   ]
  },
  {
   "cell_type": "code",
   "execution_count": 21,
   "id": "54bbd5c0",
   "metadata": {},
   "outputs": [
    {
     "data": {
      "text/html": [
       "<div>\n",
       "<style scoped>\n",
       "    .dataframe tbody tr th:only-of-type {\n",
       "        vertical-align: middle;\n",
       "    }\n",
       "\n",
       "    .dataframe tbody tr th {\n",
       "        vertical-align: top;\n",
       "    }\n",
       "\n",
       "    .dataframe thead th {\n",
       "        text-align: right;\n",
       "    }\n",
       "</style>\n",
       "<table border=\"1\" class=\"dataframe\">\n",
       "  <thead>\n",
       "    <tr style=\"text-align: right;\">\n",
       "      <th></th>\n",
       "      <th>name</th>\n",
       "      <th>character</th>\n",
       "      <th>role</th>\n",
       "      <th>title</th>\n",
       "      <th>type</th>\n",
       "      <th>release_year</th>\n",
       "      <th>genres</th>\n",
       "      <th>imdb_score</th>\n",
       "      <th>imdb_votes</th>\n",
       "    </tr>\n",
       "  </thead>\n",
       "  <tbody>\n",
       "    <tr>\n",
       "      <th>85433</th>\n",
       "      <td>Maneerat Kam-Uan</td>\n",
       "      <td>Ae</td>\n",
       "      <td>ACTOR</td>\n",
       "      <td>Let's Eat</td>\n",
       "      <td>SHOW</td>\n",
       "      <td>2021</td>\n",
       "      <td>['drama', 'comedy']</td>\n",
       "      <td>8.0</td>\n",
       "      <td>5.0</td>\n",
       "    </tr>\n",
       "    <tr>\n",
       "      <th>85434</th>\n",
       "      <td>Rudklao Amratisha</td>\n",
       "      <td>unknown</td>\n",
       "      <td>ACTOR</td>\n",
       "      <td>Let's Eat</td>\n",
       "      <td>SHOW</td>\n",
       "      <td>2021</td>\n",
       "      <td>['drama', 'comedy']</td>\n",
       "      <td>8.0</td>\n",
       "      <td>5.0</td>\n",
       "    </tr>\n",
       "    <tr>\n",
       "      <th>85435</th>\n",
       "      <td>Jaturong Mokjok</td>\n",
       "      <td>unknown</td>\n",
       "      <td>ACTOR</td>\n",
       "      <td>Let's Eat</td>\n",
       "      <td>SHOW</td>\n",
       "      <td>2021</td>\n",
       "      <td>['drama', 'comedy']</td>\n",
       "      <td>8.0</td>\n",
       "      <td>5.0</td>\n",
       "    </tr>\n",
       "    <tr>\n",
       "      <th>85436</th>\n",
       "      <td>Pisamai Wilaisak</td>\n",
       "      <td>unknown</td>\n",
       "      <td>ACTOR</td>\n",
       "      <td>Let's Eat</td>\n",
       "      <td>SHOW</td>\n",
       "      <td>2021</td>\n",
       "      <td>['drama', 'comedy']</td>\n",
       "      <td>8.0</td>\n",
       "      <td>5.0</td>\n",
       "    </tr>\n",
       "    <tr>\n",
       "      <th>85437</th>\n",
       "      <td>Sarawut Wichiensarn</td>\n",
       "      <td>unknown</td>\n",
       "      <td>DIRECTOR</td>\n",
       "      <td>Let's Eat</td>\n",
       "      <td>SHOW</td>\n",
       "      <td>2021</td>\n",
       "      <td>['drama', 'comedy']</td>\n",
       "      <td>8.0</td>\n",
       "      <td>5.0</td>\n",
       "    </tr>\n",
       "  </tbody>\n",
       "</table>\n",
       "</div>"
      ],
      "text/plain": [
       "                      name character      role      title  type  release_year  \\\n",
       "85433     Maneerat Kam-Uan        Ae     ACTOR  Let's Eat  SHOW          2021   \n",
       "85434    Rudklao Amratisha   unknown     ACTOR  Let's Eat  SHOW          2021   \n",
       "85435      Jaturong Mokjok   unknown     ACTOR  Let's Eat  SHOW          2021   \n",
       "85436     Pisamai Wilaisak   unknown     ACTOR  Let's Eat  SHOW          2021   \n",
       "85437  Sarawut Wichiensarn   unknown  DIRECTOR  Let's Eat  SHOW          2021   \n",
       "\n",
       "                    genres  imdb_score  imdb_votes  \n",
       "85433  ['drama', 'comedy']         8.0         5.0  \n",
       "85434  ['drama', 'comedy']         8.0         5.0  \n",
       "85435  ['drama', 'comedy']         8.0         5.0  \n",
       "85436  ['drama', 'comedy']         8.0         5.0  \n",
       "85437  ['drama', 'comedy']         8.0         5.0  "
      ]
     },
     "execution_count": 21,
     "metadata": {},
     "output_type": "execute_result"
    }
   ],
   "source": [
    "# rounding column with scores\n",
    "df_filtered_show_copy = df_filtered_show.copy()\n",
    "df_filtered_show_copy['imdb_score'] = df_filtered_show_copy['imdb_score'].round()\n",
    "#checking the outcome with tail()\n",
    "df_filtered_show_copy.tail()"
   ]
  },
  {
   "cell_type": "markdown",
   "id": "36dbd00a",
   "metadata": {},
   "source": [
    "It is now time to identify outliers based on the number of votes."
   ]
  },
  {
   "cell_type": "code",
   "execution_count": 22,
   "id": "b8b55e95",
   "metadata": {},
   "outputs": [
    {
     "data": {
      "text/plain": [
       "imdb_score\n",
       "2.0       5\n",
       "3.0       4\n",
       "4.0      30\n",
       "5.0      91\n",
       "6.0     329\n",
       "7.0     568\n",
       "8.0     527\n",
       "9.0      65\n",
       "10.0      1\n",
       "Name: imdb_votes, dtype: int64"
      ]
     },
     "execution_count": 22,
     "metadata": {},
     "output_type": "execute_result"
    }
   ],
   "source": [
    "# Use groupby() for scores and count all unique values in each group, print the result\n",
    "unique_scores = df_filtered_show_copy.groupby('imdb_score')['imdb_votes'].nunique()\n",
    "unique_scores"
   ]
  },
  {
   "cell_type": "markdown",
   "id": "1ba6daae",
   "metadata": {},
   "source": [
    "Based on the aggregation performed, it is evident that scores 2 (24 voted shows), 3 (27 voted shows), and 10 (only 8 voted shows) are outliers. There isn't enough data for these scores for the average number of votes to be meaningful."
   ]
  },
  {
   "cell_type": "markdown",
   "id": "bd468c46",
   "metadata": {},
   "source": [
    "To obtain the mean numbers of votes for the selected scores (we identified a range of 4-9 as acceptable), use conditional filtering and grouping."
   ]
  },
  {
   "cell_type": "code",
   "execution_count": 23,
   "id": "d1867e0e",
   "metadata": {},
   "outputs": [
    {
     "data": {
      "text/html": [
       "<div>\n",
       "<style scoped>\n",
       "    .dataframe tbody tr th:only-of-type {\n",
       "        vertical-align: middle;\n",
       "    }\n",
       "\n",
       "    .dataframe tbody tr th {\n",
       "        vertical-align: top;\n",
       "    }\n",
       "\n",
       "    .dataframe thead th {\n",
       "        text-align: right;\n",
       "    }\n",
       "</style>\n",
       "<table border=\"1\" class=\"dataframe\">\n",
       "  <thead>\n",
       "    <tr style=\"text-align: right;\">\n",
       "      <th></th>\n",
       "      <th>imdb_score</th>\n",
       "      <th>imdb_votes</th>\n",
       "    </tr>\n",
       "  </thead>\n",
       "  <tbody>\n",
       "    <tr>\n",
       "      <th>0</th>\n",
       "      <td>4.0</td>\n",
       "      <td>5277.583333</td>\n",
       "    </tr>\n",
       "    <tr>\n",
       "      <th>1</th>\n",
       "      <td>5.0</td>\n",
       "      <td>3143.942568</td>\n",
       "    </tr>\n",
       "    <tr>\n",
       "      <th>2</th>\n",
       "      <td>6.0</td>\n",
       "      <td>3481.717322</td>\n",
       "    </tr>\n",
       "    <tr>\n",
       "      <th>3</th>\n",
       "      <td>7.0</td>\n",
       "      <td>8727.068211</td>\n",
       "    </tr>\n",
       "    <tr>\n",
       "      <th>4</th>\n",
       "      <td>8.0</td>\n",
       "      <td>30299.460967</td>\n",
       "    </tr>\n",
       "    <tr>\n",
       "      <th>5</th>\n",
       "      <td>9.0</td>\n",
       "      <td>126904.109515</td>\n",
       "    </tr>\n",
       "  </tbody>\n",
       "</table>\n",
       "</div>"
      ],
      "text/plain": [
       "   imdb_score     imdb_votes\n",
       "0         4.0    5277.583333\n",
       "1         5.0    3143.942568\n",
       "2         6.0    3481.717322\n",
       "3         7.0    8727.068211\n",
       "4         8.0   30299.460967\n",
       "5         9.0  126904.109515"
      ]
     },
     "execution_count": 23,
     "metadata": {},
     "output_type": "execute_result"
    }
   ],
   "source": [
    "# filter dataframe using two conditions (scores to be in the range 4-9)\n",
    "filtered_df = df_filtered_show_copy[(df_filtered_show_copy['imdb_score'] >= 4) & (df_filtered_show_copy['imdb_score'] <= 9)]\n",
    "# group scores and corresponding average number of votes, reset index and print the result\n",
    "grouped_df = filtered_df.groupby('imdb_score')['imdb_votes'].mean()\n",
    "grouped_reset = grouped_df.reset_index()\n",
    "grouped_reset"
   ]
  },
  {
   "cell_type": "markdown",
   "id": "96a66d14",
   "metadata": {},
   "source": [
    "Now for the final step! Round the column with the averages, rename both columns, and print the dataframe in descending order."
   ]
  },
  {
   "cell_type": "code",
   "execution_count": 24,
   "id": "5999051b",
   "metadata": {},
   "outputs": [
    {
     "data": {
      "text/html": [
       "<div>\n",
       "<style scoped>\n",
       "    .dataframe tbody tr th:only-of-type {\n",
       "        vertical-align: middle;\n",
       "    }\n",
       "\n",
       "    .dataframe tbody tr th {\n",
       "        vertical-align: top;\n",
       "    }\n",
       "\n",
       "    .dataframe thead th {\n",
       "        text-align: right;\n",
       "    }\n",
       "</style>\n",
       "<table border=\"1\" class=\"dataframe\">\n",
       "  <thead>\n",
       "    <tr style=\"text-align: right;\">\n",
       "      <th></th>\n",
       "      <th>IMDb Score</th>\n",
       "      <th>Average Votes</th>\n",
       "    </tr>\n",
       "  </thead>\n",
       "  <tbody>\n",
       "    <tr>\n",
       "      <th>5</th>\n",
       "      <td>9.0</td>\n",
       "      <td>126904.0</td>\n",
       "    </tr>\n",
       "    <tr>\n",
       "      <th>4</th>\n",
       "      <td>8.0</td>\n",
       "      <td>30299.0</td>\n",
       "    </tr>\n",
       "    <tr>\n",
       "      <th>3</th>\n",
       "      <td>7.0</td>\n",
       "      <td>8727.0</td>\n",
       "    </tr>\n",
       "    <tr>\n",
       "      <th>2</th>\n",
       "      <td>6.0</td>\n",
       "      <td>3482.0</td>\n",
       "    </tr>\n",
       "    <tr>\n",
       "      <th>1</th>\n",
       "      <td>5.0</td>\n",
       "      <td>3144.0</td>\n",
       "    </tr>\n",
       "    <tr>\n",
       "      <th>0</th>\n",
       "      <td>4.0</td>\n",
       "      <td>5278.0</td>\n",
       "    </tr>\n",
       "  </tbody>\n",
       "</table>\n",
       "</div>"
      ],
      "text/plain": [
       "   IMDb Score  Average Votes\n",
       "5         9.0       126904.0\n",
       "4         8.0        30299.0\n",
       "3         7.0         8727.0\n",
       "2         6.0         3482.0\n",
       "1         5.0         3144.0\n",
       "0         4.0         5278.0"
      ]
     },
     "execution_count": 24,
     "metadata": {},
     "output_type": "execute_result"
    }
   ],
   "source": [
    "# round column with averages\n",
    "grouped_reset['imdb_votes'] = grouped_reset['imdb_votes'].round()\n",
    "# rename columns\n",
    "grouped_reset.columns = ['IMDb Score', 'Average Votes']\n",
    "# print dataframe in descending order\n",
    "sorted_grouped = grouped_reset.sort_values(by='IMDb Score', ascending=False)\n",
    "sorted_grouped"
   ]
  },
  {
   "cell_type": "markdown",
   "id": "af07386d",
   "metadata": {},
   "source": [
    "The assumption macthes the analysis: the shows with the top 3 scores have the most amounts of votes."
   ]
  },
  {
   "cell_type": "markdown",
   "id": "84e29a37",
   "metadata": {},
   "source": [
    "## Conclusion <a id='hypotheses'></a>"
   ]
  },
  {
   "cell_type": "markdown",
   "id": "984766a3",
   "metadata": {},
   "source": [
    "The research done confirms that highly-rated shows released during the \"Golden Age\" of television also have the most votes. While shows with score 4 have more votes than ones with scores 5 and 6, the top three (scores 7-9) have the largest number. The data studied represents around 94% of the original set, so we can be confident in our findings."
   ]
  },
  {
   "cell_type": "markdown",
   "id": "2d2b342a",
   "metadata": {},
   "source": [
    "<div class=\"alert alert-block alert-success\">✔️\n",
    "    \n",
    "\n",
    "__Reviewer's comment №1__\n",
    "\n",
    "\n",
    "Otherwise it's great😊. Your project is begging for github =)   \n",
    "    \n",
    "Congratulations on the successful completion of the project 😊👍\n",
    "And I wish you success in new works 😊"
   ]
  }
 ],
 "metadata": {
  "ExecuteTimeLog": [
   {
    "duration": 302,
    "start_time": "2024-09-03T19:57:04.361Z"
   },
   {
    "duration": 152,
    "start_time": "2024-09-03T19:58:03.315Z"
   },
   {
    "duration": 14,
    "start_time": "2024-09-03T20:12:09.558Z"
   },
   {
    "duration": 23,
    "start_time": "2024-09-03T20:12:33.990Z"
   },
   {
    "duration": 570,
    "start_time": "2024-09-03T20:16:33.491Z"
   },
   {
    "duration": 41,
    "start_time": "2024-09-03T20:16:46.892Z"
   },
   {
    "duration": 3,
    "start_time": "2024-09-03T20:17:41.991Z"
   },
   {
    "duration": 120,
    "start_time": "2024-09-03T21:21:46.247Z"
   },
   {
    "duration": 3,
    "start_time": "2024-09-03T21:28:48.883Z"
   },
   {
    "duration": 5,
    "start_time": "2024-09-03T21:28:55.491Z"
   },
   {
    "duration": 4,
    "start_time": "2024-09-03T21:32:27.301Z"
   },
   {
    "duration": 3,
    "start_time": "2024-09-03T21:32:32.354Z"
   },
   {
    "duration": 4,
    "start_time": "2024-09-03T21:32:35.603Z"
   },
   {
    "duration": 18,
    "start_time": "2024-09-03T21:33:53.655Z"
   },
   {
    "duration": 39,
    "start_time": "2024-09-03T21:36:00.685Z"
   },
   {
    "duration": 26,
    "start_time": "2024-09-03T21:36:16.034Z"
   },
   {
    "duration": 28,
    "start_time": "2024-09-03T21:36:43.239Z"
   },
   {
    "duration": 21,
    "start_time": "2024-09-03T21:36:48.050Z"
   },
   {
    "duration": 3,
    "start_time": "2024-09-03T21:36:53.550Z"
   },
   {
    "duration": 116,
    "start_time": "2024-09-03T21:36:53.555Z"
   },
   {
    "duration": 11,
    "start_time": "2024-09-03T21:36:53.672Z"
   },
   {
    "duration": 27,
    "start_time": "2024-09-03T21:36:53.685Z"
   },
   {
    "duration": 3,
    "start_time": "2024-09-03T21:36:53.715Z"
   },
   {
    "duration": 3,
    "start_time": "2024-09-03T21:36:53.720Z"
   },
   {
    "duration": 5,
    "start_time": "2024-09-03T21:36:53.725Z"
   },
   {
    "duration": 19,
    "start_time": "2024-09-03T21:36:53.731Z"
   },
   {
    "duration": 27,
    "start_time": "2024-09-03T21:36:53.752Z"
   },
   {
    "duration": 34,
    "start_time": "2024-09-03T21:37:45.553Z"
   },
   {
    "duration": 3,
    "start_time": "2024-09-03T21:37:50.013Z"
   },
   {
    "duration": 114,
    "start_time": "2024-09-03T21:37:50.023Z"
   },
   {
    "duration": 10,
    "start_time": "2024-09-03T21:37:50.139Z"
   },
   {
    "duration": 29,
    "start_time": "2024-09-03T21:37:50.151Z"
   },
   {
    "duration": 4,
    "start_time": "2024-09-03T21:37:50.182Z"
   },
   {
    "duration": 4,
    "start_time": "2024-09-03T21:37:50.188Z"
   },
   {
    "duration": 4,
    "start_time": "2024-09-03T21:37:50.212Z"
   },
   {
    "duration": 19,
    "start_time": "2024-09-03T21:37:50.218Z"
   },
   {
    "duration": 32,
    "start_time": "2024-09-03T21:37:50.239Z"
   },
   {
    "duration": 21,
    "start_time": "2024-09-03T21:37:54.640Z"
   },
   {
    "duration": 25,
    "start_time": "2024-09-03T21:38:51.320Z"
   },
   {
    "duration": 18,
    "start_time": "2024-09-03T21:39:01.535Z"
   },
   {
    "duration": 44,
    "start_time": "2024-09-03T21:41:27.846Z"
   },
   {
    "duration": 4,
    "start_time": "2024-09-03T21:42:11.613Z"
   },
   {
    "duration": 45,
    "start_time": "2024-09-03T21:44:20.914Z"
   },
   {
    "duration": 13,
    "start_time": "2024-09-03T21:45:07.541Z"
   },
   {
    "duration": 3,
    "start_time": "2024-09-03T21:45:16.343Z"
   },
   {
    "duration": 5,
    "start_time": "2024-09-03T21:45:28.717Z"
   },
   {
    "duration": 45,
    "start_time": "2024-09-03T21:45:44.750Z"
   },
   {
    "duration": 8,
    "start_time": "2024-09-03T21:46:40.040Z"
   },
   {
    "duration": 49,
    "start_time": "2024-09-03T21:47:06.554Z"
   },
   {
    "duration": 92,
    "start_time": "2024-09-03T21:47:17.401Z"
   },
   {
    "duration": 42,
    "start_time": "2024-09-03T21:47:58.340Z"
   },
   {
    "duration": 45,
    "start_time": "2024-09-03T21:49:33.195Z"
   },
   {
    "duration": 44,
    "start_time": "2024-09-03T21:50:38.851Z"
   },
   {
    "duration": 5,
    "start_time": "2024-09-03T21:50:54.226Z"
   },
   {
    "duration": 5,
    "start_time": "2024-09-03T21:51:06.669Z"
   },
   {
    "duration": 3,
    "start_time": "2024-09-03T21:55:57.601Z"
   },
   {
    "duration": 6,
    "start_time": "2024-09-03T21:56:13.774Z"
   },
   {
    "duration": 2,
    "start_time": "2024-09-03T21:56:27.668Z"
   },
   {
    "duration": 114,
    "start_time": "2024-09-03T21:56:27.672Z"
   },
   {
    "duration": 10,
    "start_time": "2024-09-03T21:56:27.788Z"
   },
   {
    "duration": 23,
    "start_time": "2024-09-03T21:56:27.800Z"
   },
   {
    "duration": 4,
    "start_time": "2024-09-03T21:56:27.825Z"
   },
   {
    "duration": 3,
    "start_time": "2024-09-03T21:56:27.831Z"
   },
   {
    "duration": 5,
    "start_time": "2024-09-03T21:56:27.835Z"
   },
   {
    "duration": 21,
    "start_time": "2024-09-03T21:56:27.841Z"
   },
   {
    "duration": 55,
    "start_time": "2024-09-03T21:56:27.864Z"
   },
   {
    "duration": 18,
    "start_time": "2024-09-03T21:56:27.921Z"
   },
   {
    "duration": 41,
    "start_time": "2024-09-03T21:56:27.942Z"
   },
   {
    "duration": 46,
    "start_time": "2024-09-03T21:56:53.285Z"
   },
   {
    "duration": 45,
    "start_time": "2024-09-03T21:57:21.499Z"
   },
   {
    "duration": 45,
    "start_time": "2024-09-03T21:57:24.926Z"
   },
   {
    "duration": 9,
    "start_time": "2024-09-03T21:57:53.326Z"
   },
   {
    "duration": 9,
    "start_time": "2024-09-03T21:57:56.148Z"
   },
   {
    "duration": 9,
    "start_time": "2024-09-03T21:58:30.375Z"
   },
   {
    "duration": 8,
    "start_time": "2024-09-03T21:59:36.893Z"
   },
   {
    "duration": 43,
    "start_time": "2024-09-03T21:59:55.943Z"
   },
   {
    "duration": 14,
    "start_time": "2024-09-03T21:59:59.551Z"
   },
   {
    "duration": 43,
    "start_time": "2024-09-03T22:00:12.296Z"
   },
   {
    "duration": 10,
    "start_time": "2024-09-03T22:00:45.874Z"
   },
   {
    "duration": 9,
    "start_time": "2024-09-03T22:07:00.975Z"
   },
   {
    "duration": 45,
    "start_time": "2024-09-03T22:07:20.615Z"
   },
   {
    "duration": 38,
    "start_time": "2024-09-03T22:09:22.388Z"
   },
   {
    "duration": 37,
    "start_time": "2024-09-03T22:09:30.146Z"
   },
   {
    "duration": 3,
    "start_time": "2024-09-03T22:09:41.765Z"
   },
   {
    "duration": 123,
    "start_time": "2024-09-03T22:09:41.776Z"
   },
   {
    "duration": 11,
    "start_time": "2024-09-03T22:09:41.901Z"
   },
   {
    "duration": 22,
    "start_time": "2024-09-03T22:09:41.915Z"
   },
   {
    "duration": 4,
    "start_time": "2024-09-03T22:09:41.938Z"
   },
   {
    "duration": 3,
    "start_time": "2024-09-03T22:09:41.944Z"
   },
   {
    "duration": 5,
    "start_time": "2024-09-03T22:09:41.949Z"
   },
   {
    "duration": 19,
    "start_time": "2024-09-03T22:09:41.955Z"
   },
   {
    "duration": 50,
    "start_time": "2024-09-03T22:09:41.976Z"
   },
   {
    "duration": 19,
    "start_time": "2024-09-03T22:09:42.028Z"
   },
   {
    "duration": 5,
    "start_time": "2024-09-03T22:10:04.492Z"
   },
   {
    "duration": 48,
    "start_time": "2024-09-03T22:10:10.620Z"
   },
   {
    "duration": 40,
    "start_time": "2024-09-03T22:10:16.117Z"
   },
   {
    "duration": 40,
    "start_time": "2024-09-03T22:10:23.649Z"
   },
   {
    "duration": 5,
    "start_time": "2024-09-03T22:10:58.563Z"
   },
   {
    "duration": 41,
    "start_time": "2024-09-03T22:11:11.976Z"
   },
   {
    "duration": 44,
    "start_time": "2024-09-03T22:11:26.617Z"
   },
   {
    "duration": 39,
    "start_time": "2024-09-03T22:11:34.163Z"
   },
   {
    "duration": 55,
    "start_time": "2024-09-03T22:12:31.277Z"
   },
   {
    "duration": 39,
    "start_time": "2024-09-03T22:12:37.320Z"
   },
   {
    "duration": 58,
    "start_time": "2024-09-03T22:12:51.500Z"
   },
   {
    "duration": 35,
    "start_time": "2024-09-03T22:12:54.017Z"
   },
   {
    "duration": 39,
    "start_time": "2024-09-03T22:13:01.898Z"
   },
   {
    "duration": 37,
    "start_time": "2024-09-03T22:13:13.616Z"
   },
   {
    "duration": 3,
    "start_time": "2024-09-03T22:13:21.962Z"
   },
   {
    "duration": 2,
    "start_time": "2024-09-03T22:13:23.499Z"
   },
   {
    "duration": 37,
    "start_time": "2024-09-03T22:13:26.412Z"
   },
   {
    "duration": 58,
    "start_time": "2024-09-03T22:13:55.649Z"
   },
   {
    "duration": 5,
    "start_time": "2024-09-03T22:13:59.087Z"
   },
   {
    "duration": 39,
    "start_time": "2024-09-03T22:14:34.414Z"
   },
   {
    "duration": 40,
    "start_time": "2024-09-03T22:15:17.883Z"
   },
   {
    "duration": 35,
    "start_time": "2024-09-03T22:16:04.051Z"
   },
   {
    "duration": 164,
    "start_time": "2024-09-03T22:17:28.237Z"
   },
   {
    "duration": 267,
    "start_time": "2024-09-03T22:17:40.805Z"
   },
   {
    "duration": 117,
    "start_time": "2024-09-03T22:17:42.789Z"
   },
   {
    "duration": 14,
    "start_time": "2024-09-03T22:17:45.124Z"
   },
   {
    "duration": 26,
    "start_time": "2024-09-03T22:17:47.552Z"
   },
   {
    "duration": 3,
    "start_time": "2024-09-03T22:17:51.508Z"
   },
   {
    "duration": 4,
    "start_time": "2024-09-03T22:17:54.353Z"
   },
   {
    "duration": 4,
    "start_time": "2024-09-03T22:17:57.156Z"
   },
   {
    "duration": 21,
    "start_time": "2024-09-03T22:17:59.457Z"
   },
   {
    "duration": 29,
    "start_time": "2024-09-03T22:18:02.124Z"
   },
   {
    "duration": 19,
    "start_time": "2024-09-03T22:18:04.195Z"
   },
   {
    "duration": 69,
    "start_time": "2024-09-03T22:18:06.656Z"
   },
   {
    "duration": 37,
    "start_time": "2024-09-03T22:18:13.224Z"
   },
   {
    "duration": 12,
    "start_time": "2024-09-03T22:18:34.941Z"
   },
   {
    "duration": 41,
    "start_time": "2024-09-03T22:19:55.147Z"
   },
   {
    "duration": 44,
    "start_time": "2024-09-03T22:20:02.350Z"
   },
   {
    "duration": 5,
    "start_time": "2024-09-03T22:20:08.342Z"
   },
   {
    "duration": 43,
    "start_time": "2024-09-03T22:23:11.797Z"
   },
   {
    "duration": 292,
    "start_time": "2024-09-03T22:24:10.194Z"
   },
   {
    "duration": 44,
    "start_time": "2024-09-03T22:24:33.762Z"
   },
   {
    "duration": 49,
    "start_time": "2024-09-03T22:25:37.807Z"
   },
   {
    "duration": 43,
    "start_time": "2024-09-03T22:26:03.953Z"
   },
   {
    "duration": 53,
    "start_time": "2024-09-03T22:26:16.571Z"
   },
   {
    "duration": 41,
    "start_time": "2024-09-03T22:26:38.844Z"
   },
   {
    "duration": 43,
    "start_time": "2024-09-03T22:26:51.719Z"
   },
   {
    "duration": 11,
    "start_time": "2024-09-03T22:28:10.347Z"
   },
   {
    "duration": 7,
    "start_time": "2024-09-03T22:29:03.465Z"
   },
   {
    "duration": 32,
    "start_time": "2024-09-03T22:32:27.798Z"
   },
   {
    "duration": 3,
    "start_time": "2024-09-03T22:42:30.300Z"
   },
   {
    "duration": 20,
    "start_time": "2024-09-03T22:42:34.133Z"
   },
   {
    "duration": 7,
    "start_time": "2024-09-03T22:46:59.425Z"
   },
   {
    "duration": 18,
    "start_time": "2024-09-03T22:47:03.797Z"
   },
   {
    "duration": 14,
    "start_time": "2024-09-03T22:47:13.025Z"
   },
   {
    "duration": 20,
    "start_time": "2024-09-03T22:47:42.159Z"
   },
   {
    "duration": 21,
    "start_time": "2024-09-03T22:49:19.161Z"
   },
   {
    "duration": 14,
    "start_time": "2024-09-03T22:50:28.069Z"
   },
   {
    "duration": 3,
    "start_time": "2024-09-03T22:51:17.764Z"
   },
   {
    "duration": 12,
    "start_time": "2024-09-03T22:51:21.426Z"
   },
   {
    "duration": 4,
    "start_time": "2024-09-03T22:51:33.643Z"
   },
   {
    "duration": 4,
    "start_time": "2024-09-03T22:52:29.813Z"
   },
   {
    "duration": 7,
    "start_time": "2024-09-03T22:52:38.589Z"
   },
   {
    "duration": 10,
    "start_time": "2024-09-03T22:57:46.414Z"
   },
   {
    "duration": 41,
    "start_time": "2024-09-03T22:58:41.543Z"
   },
   {
    "duration": 273,
    "start_time": "2024-09-03T23:01:00.292Z"
   },
   {
    "duration": 123,
    "start_time": "2024-09-03T23:01:02.019Z"
   },
   {
    "duration": 15,
    "start_time": "2024-09-03T23:01:04.201Z"
   },
   {
    "duration": 24,
    "start_time": "2024-09-03T23:01:06.387Z"
   },
   {
    "duration": 4,
    "start_time": "2024-09-03T23:01:10.931Z"
   },
   {
    "duration": 4,
    "start_time": "2024-09-03T23:01:13.677Z"
   },
   {
    "duration": 4,
    "start_time": "2024-09-03T23:01:15.769Z"
   },
   {
    "duration": 20,
    "start_time": "2024-09-03T23:01:18.314Z"
   },
   {
    "duration": 27,
    "start_time": "2024-09-03T23:01:24.898Z"
   },
   {
    "duration": 19,
    "start_time": "2024-09-03T23:01:27.297Z"
   },
   {
    "duration": 43,
    "start_time": "2024-09-03T23:01:30.437Z"
   },
   {
    "duration": 43,
    "start_time": "2024-09-03T23:01:32.933Z"
   },
   {
    "duration": 46,
    "start_time": "2024-09-03T23:01:38.645Z"
   },
   {
    "duration": 41,
    "start_time": "2024-09-03T23:01:40.577Z"
   },
   {
    "duration": 34,
    "start_time": "2024-09-03T23:01:43.866Z"
   },
   {
    "duration": 187,
    "start_time": "2024-09-03T23:01:47.924Z"
   },
   {
    "duration": 3,
    "start_time": "2024-09-03T23:01:54.404Z"
   },
   {
    "duration": 13,
    "start_time": "2024-09-03T23:01:56.143Z"
   },
   {
    "duration": 6,
    "start_time": "2024-09-03T23:01:58.226Z"
   },
   {
    "duration": 8,
    "start_time": "2024-09-03T23:07:17.080Z"
   },
   {
    "duration": 20,
    "start_time": "2024-09-03T23:09:37.663Z"
   },
   {
    "duration": 388,
    "start_time": "2024-09-03T23:13:40.721Z"
   },
   {
    "duration": 10,
    "start_time": "2024-09-03T23:14:32.003Z"
   },
   {
    "duration": 10,
    "start_time": "2024-09-03T23:15:04.392Z"
   },
   {
    "duration": 5,
    "start_time": "2024-09-03T23:15:56.619Z"
   },
   {
    "duration": 296,
    "start_time": "2024-09-03T23:17:34.477Z"
   },
   {
    "duration": 40,
    "start_time": "2024-09-03T23:24:09.669Z"
   },
   {
    "duration": 40,
    "start_time": "2024-09-03T23:25:20.396Z"
   },
   {
    "duration": 60,
    "start_time": "2024-09-03T23:27:27.646Z"
   },
   {
    "duration": 38,
    "start_time": "2024-09-03T23:27:37.146Z"
   },
   {
    "duration": 305,
    "start_time": "2024-09-03T23:27:56.755Z"
   },
   {
    "duration": 119,
    "start_time": "2024-09-03T23:27:59.304Z"
   },
   {
    "duration": 14,
    "start_time": "2024-09-03T23:28:01.059Z"
   },
   {
    "duration": 23,
    "start_time": "2024-09-03T23:28:03.442Z"
   },
   {
    "duration": 5,
    "start_time": "2024-09-03T23:28:05.925Z"
   },
   {
    "duration": 3,
    "start_time": "2024-09-03T23:28:08.186Z"
   },
   {
    "duration": 4,
    "start_time": "2024-09-03T23:28:09.745Z"
   },
   {
    "duration": 19,
    "start_time": "2024-09-03T23:28:12.647Z"
   },
   {
    "duration": 25,
    "start_time": "2024-09-03T23:28:15.185Z"
   },
   {
    "duration": 19,
    "start_time": "2024-09-03T23:28:17.046Z"
   },
   {
    "duration": 43,
    "start_time": "2024-09-03T23:28:19.457Z"
   },
   {
    "duration": 42,
    "start_time": "2024-09-03T23:28:21.349Z"
   },
   {
    "duration": 45,
    "start_time": "2024-09-03T23:28:24.009Z"
   },
   {
    "duration": 41,
    "start_time": "2024-09-03T23:28:25.699Z"
   },
   {
    "duration": 33,
    "start_time": "2024-09-03T23:28:28.657Z"
   },
   {
    "duration": 3,
    "start_time": "2024-09-03T23:28:33.758Z"
   },
   {
    "duration": 12,
    "start_time": "2024-09-03T23:28:37.521Z"
   },
   {
    "duration": 7,
    "start_time": "2024-09-03T23:28:39.528Z"
   },
   {
    "duration": 7,
    "start_time": "2024-09-03T23:29:06.062Z"
   },
   {
    "duration": 9,
    "start_time": "2024-09-03T23:29:16.736Z"
   },
   {
    "duration": 6,
    "start_time": "2024-09-03T23:29:21.831Z"
   },
   {
    "duration": 427,
    "start_time": "2024-09-03T23:29:29.494Z"
   },
   {
    "duration": 40,
    "start_time": "2024-09-03T23:29:41.872Z"
   },
   {
    "duration": 43,
    "start_time": "2024-09-03T23:33:57.357Z"
   },
   {
    "duration": 44,
    "start_time": "2024-09-03T23:34:30.580Z"
   },
   {
    "duration": 14,
    "start_time": "2024-09-03T23:37:52.929Z"
   },
   {
    "duration": 273,
    "start_time": "2024-09-03T23:39:30.590Z"
   },
   {
    "duration": 117,
    "start_time": "2024-09-03T23:39:33.531Z"
   },
   {
    "duration": 15,
    "start_time": "2024-09-03T23:39:35.984Z"
   },
   {
    "duration": 24,
    "start_time": "2024-09-03T23:39:38.495Z"
   },
   {
    "duration": 4,
    "start_time": "2024-09-03T23:39:53.507Z"
   },
   {
    "duration": 4,
    "start_time": "2024-09-03T23:39:56.435Z"
   },
   {
    "duration": 4,
    "start_time": "2024-09-03T23:39:58.311Z"
   },
   {
    "duration": 25,
    "start_time": "2024-09-03T23:40:01.201Z"
   },
   {
    "duration": 25,
    "start_time": "2024-09-03T23:40:05.063Z"
   },
   {
    "duration": 19,
    "start_time": "2024-09-03T23:40:06.526Z"
   },
   {
    "duration": 46,
    "start_time": "2024-09-03T23:40:08.778Z"
   },
   {
    "duration": 43,
    "start_time": "2024-09-03T23:40:10.544Z"
   },
   {
    "duration": 49,
    "start_time": "2024-09-03T23:40:12.305Z"
   },
   {
    "duration": 40,
    "start_time": "2024-09-03T23:40:14.644Z"
   },
   {
    "duration": 31,
    "start_time": "2024-09-03T23:40:18.731Z"
   },
   {
    "duration": 3,
    "start_time": "2024-09-03T23:40:23.615Z"
   },
   {
    "duration": 16,
    "start_time": "2024-09-03T23:40:25.729Z"
   },
   {
    "duration": 6,
    "start_time": "2024-09-03T23:40:27.657Z"
   },
   {
    "duration": 8,
    "start_time": "2024-09-03T23:40:35.792Z"
   },
   {
    "duration": 18,
    "start_time": "2024-09-03T23:40:37.336Z"
   },
   {
    "duration": 5,
    "start_time": "2024-09-03T23:40:47.685Z"
   },
   {
    "duration": 90,
    "start_time": "2024-09-03T23:40:53.965Z"
   },
   {
    "duration": 453,
    "start_time": "2024-09-03T23:41:48.398Z"
   },
   {
    "duration": 275,
    "start_time": "2024-09-03T23:42:07.586Z"
   },
   {
    "duration": 122,
    "start_time": "2024-09-03T23:42:09.590Z"
   },
   {
    "duration": 14,
    "start_time": "2024-09-03T23:42:11.325Z"
   },
   {
    "duration": 26,
    "start_time": "2024-09-03T23:42:13.290Z"
   },
   {
    "duration": 3,
    "start_time": "2024-09-03T23:42:16.314Z"
   },
   {
    "duration": 3,
    "start_time": "2024-09-03T23:42:18.115Z"
   },
   {
    "duration": 4,
    "start_time": "2024-09-03T23:42:20.129Z"
   },
   {
    "duration": 21,
    "start_time": "2024-09-03T23:42:22.493Z"
   },
   {
    "duration": 46,
    "start_time": "2024-09-03T23:42:25.284Z"
   },
   {
    "duration": 21,
    "start_time": "2024-09-03T23:42:27.065Z"
   },
   {
    "duration": 44,
    "start_time": "2024-09-03T23:42:29.073Z"
   },
   {
    "duration": 42,
    "start_time": "2024-09-03T23:42:30.583Z"
   },
   {
    "duration": 46,
    "start_time": "2024-09-03T23:42:32.702Z"
   },
   {
    "duration": 42,
    "start_time": "2024-09-03T23:42:34.241Z"
   },
   {
    "duration": 33,
    "start_time": "2024-09-03T23:42:36.483Z"
   },
   {
    "duration": 3,
    "start_time": "2024-09-03T23:42:41.685Z"
   },
   {
    "duration": 14,
    "start_time": "2024-09-03T23:42:44.365Z"
   },
   {
    "duration": 7,
    "start_time": "2024-09-03T23:42:46.372Z"
   },
   {
    "duration": 7,
    "start_time": "2024-09-03T23:42:52.327Z"
   },
   {
    "duration": 18,
    "start_time": "2024-09-03T23:42:55.184Z"
   },
   {
    "duration": 6,
    "start_time": "2024-09-03T23:42:59.170Z"
   },
   {
    "duration": 4,
    "start_time": "2024-09-03T23:43:06.076Z"
   },
   {
    "duration": 79,
    "start_time": "2024-09-03T23:43:51.867Z"
   },
   {
    "duration": 11,
    "start_time": "2024-09-03T23:44:38.367Z"
   },
   {
    "duration": 10,
    "start_time": "2024-09-03T23:45:25.245Z"
   },
   {
    "duration": 5,
    "start_time": "2024-09-03T23:45:52.144Z"
   },
   {
    "duration": 12,
    "start_time": "2024-09-03T23:46:11.886Z"
   },
   {
    "duration": 12,
    "start_time": "2024-09-03T23:46:17.004Z"
   },
   {
    "duration": 33,
    "start_time": "2024-09-03T23:46:42.805Z"
   },
   {
    "duration": 11,
    "start_time": "2024-09-03T23:46:47.983Z"
   },
   {
    "duration": 11,
    "start_time": "2024-09-03T23:46:50.899Z"
   },
   {
    "duration": 9,
    "start_time": "2024-09-03T23:47:14.661Z"
   },
   {
    "duration": 23,
    "start_time": "2024-09-03T23:50:37.562Z"
   },
   {
    "duration": 25,
    "start_time": "2024-09-03T23:50:43.377Z"
   },
   {
    "duration": 9,
    "start_time": "2024-09-03T23:56:05.488Z"
   },
   {
    "duration": 188,
    "start_time": "2024-09-03T23:56:19.909Z"
   },
   {
    "duration": 17,
    "start_time": "2024-09-03T23:56:28.220Z"
   },
   {
    "duration": 8,
    "start_time": "2024-09-03T23:56:39.725Z"
   },
   {
    "duration": 11,
    "start_time": "2024-09-03T23:57:10.416Z"
   },
   {
    "duration": 13,
    "start_time": "2024-09-03T23:57:12.838Z"
   },
   {
    "duration": 12,
    "start_time": "2024-09-03T23:57:26.468Z"
   },
   {
    "duration": 19,
    "start_time": "2024-09-03T23:58:27.159Z"
   },
   {
    "duration": 284,
    "start_time": "2024-09-03T23:58:34.280Z"
   },
   {
    "duration": 118,
    "start_time": "2024-09-03T23:58:35.939Z"
   },
   {
    "duration": 14,
    "start_time": "2024-09-03T23:58:37.851Z"
   },
   {
    "duration": 24,
    "start_time": "2024-09-03T23:58:40.147Z"
   },
   {
    "duration": 25,
    "start_time": "2024-09-03T23:58:46.488Z"
   },
   {
    "duration": 4,
    "start_time": "2024-09-03T23:58:49.257Z"
   },
   {
    "duration": 4,
    "start_time": "2024-09-03T23:58:51.839Z"
   },
   {
    "duration": 4,
    "start_time": "2024-09-03T23:58:54.527Z"
   },
   {
    "duration": 20,
    "start_time": "2024-09-03T23:58:56.422Z"
   },
   {
    "duration": 25,
    "start_time": "2024-09-03T23:59:00.753Z"
   },
   {
    "duration": 18,
    "start_time": "2024-09-03T23:59:02.677Z"
   },
   {
    "duration": 60,
    "start_time": "2024-09-03T23:59:04.685Z"
   },
   {
    "duration": 42,
    "start_time": "2024-09-03T23:59:06.849Z"
   },
   {
    "duration": 46,
    "start_time": "2024-09-03T23:59:09.185Z"
   },
   {
    "duration": 40,
    "start_time": "2024-09-03T23:59:11.780Z"
   },
   {
    "duration": 33,
    "start_time": "2024-09-03T23:59:25.248Z"
   },
   {
    "duration": 4,
    "start_time": "2024-09-04T00:00:09.910Z"
   },
   {
    "duration": 4,
    "start_time": "2024-09-04T00:00:19.837Z"
   },
   {
    "duration": 12,
    "start_time": "2024-09-04T00:00:27.562Z"
   },
   {
    "duration": 8,
    "start_time": "2024-09-04T00:00:29.716Z"
   },
   {
    "duration": 6,
    "start_time": "2024-09-04T00:01:24.776Z"
   },
   {
    "duration": 8,
    "start_time": "2024-09-04T00:01:41.043Z"
   },
   {
    "duration": 7,
    "start_time": "2024-09-04T00:01:54.446Z"
   },
   {
    "duration": 7,
    "start_time": "2024-09-04T00:02:35.491Z"
   },
   {
    "duration": 8,
    "start_time": "2024-09-04T00:02:41.107Z"
   },
   {
    "duration": 32,
    "start_time": "2024-09-04T00:02:43.757Z"
   },
   {
    "duration": 9,
    "start_time": "2024-09-04T00:02:48.080Z"
   },
   {
    "duration": 6,
    "start_time": "2024-09-04T00:03:17.281Z"
   },
   {
    "duration": 308,
    "start_time": "2024-09-04T00:03:53.349Z"
   },
   {
    "duration": 121,
    "start_time": "2024-09-04T00:03:54.898Z"
   },
   {
    "duration": 13,
    "start_time": "2024-09-04T00:03:56.886Z"
   },
   {
    "duration": 25,
    "start_time": "2024-09-04T00:03:59.736Z"
   },
   {
    "duration": 4,
    "start_time": "2024-09-04T00:04:02.464Z"
   },
   {
    "duration": 4,
    "start_time": "2024-09-04T00:04:05.194Z"
   },
   {
    "duration": 3,
    "start_time": "2024-09-04T00:04:07.015Z"
   },
   {
    "duration": 21,
    "start_time": "2024-09-04T00:04:09.505Z"
   },
   {
    "duration": 26,
    "start_time": "2024-09-04T00:04:12.558Z"
   },
   {
    "duration": 19,
    "start_time": "2024-09-04T00:04:14.376Z"
   },
   {
    "duration": 47,
    "start_time": "2024-09-04T00:04:16.798Z"
   },
   {
    "duration": 43,
    "start_time": "2024-09-04T00:04:18.664Z"
   },
   {
    "duration": 46,
    "start_time": "2024-09-04T00:04:20.650Z"
   },
   {
    "duration": 40,
    "start_time": "2024-09-04T00:04:22.739Z"
   },
   {
    "duration": 34,
    "start_time": "2024-09-04T00:04:25.494Z"
   },
   {
    "duration": 4,
    "start_time": "2024-09-04T00:04:30.520Z"
   },
   {
    "duration": 12,
    "start_time": "2024-09-04T00:04:32.410Z"
   },
   {
    "duration": 7,
    "start_time": "2024-09-04T00:04:34.473Z"
   },
   {
    "duration": 9,
    "start_time": "2024-09-04T00:04:37.245Z"
   },
   {
    "duration": 18,
    "start_time": "2024-09-04T00:04:39.017Z"
   },
   {
    "duration": 6,
    "start_time": "2024-09-04T00:04:46.464Z"
   },
   {
    "duration": 11,
    "start_time": "2024-09-04T00:04:59.658Z"
   },
   {
    "duration": 18,
    "start_time": "2024-09-04T00:05:42.046Z"
   },
   {
    "duration": 11,
    "start_time": "2024-09-04T00:05:47.840Z"
   },
   {
    "duration": 20,
    "start_time": "2024-09-04T00:06:37.283Z"
   },
   {
    "duration": 7,
    "start_time": "2024-09-04T00:07:05.472Z"
   },
   {
    "duration": 22,
    "start_time": "2024-09-04T00:07:12.890Z"
   },
   {
    "duration": 7,
    "start_time": "2024-09-04T00:07:27.245Z"
   },
   {
    "duration": 11,
    "start_time": "2024-09-04T00:07:43.881Z"
   },
   {
    "duration": 11,
    "start_time": "2024-09-04T00:11:19.734Z"
   },
   {
    "duration": 9,
    "start_time": "2024-09-04T00:14:21.110Z"
   },
   {
    "duration": 432,
    "start_time": "2024-09-04T00:14:30.671Z"
   },
   {
    "duration": 4,
    "start_time": "2024-09-04T00:14:55.572Z"
   },
   {
    "duration": 336,
    "start_time": "2024-09-04T00:15:34.660Z"
   },
   {
    "duration": 192,
    "start_time": "2024-09-04T00:15:36.182Z"
   },
   {
    "duration": 24,
    "start_time": "2024-09-04T00:15:37.748Z"
   },
   {
    "duration": 32,
    "start_time": "2024-09-04T00:15:39.977Z"
   },
   {
    "duration": 6,
    "start_time": "2024-09-04T00:15:42.133Z"
   },
   {
    "duration": 8,
    "start_time": "2024-09-04T00:15:44.535Z"
   },
   {
    "duration": 3,
    "start_time": "2024-09-04T00:15:46.359Z"
   },
   {
    "duration": 20,
    "start_time": "2024-09-04T00:15:48.602Z"
   },
   {
    "duration": 38,
    "start_time": "2024-09-04T00:15:50.866Z"
   },
   {
    "duration": 19,
    "start_time": "2024-09-04T00:15:52.911Z"
   },
   {
    "duration": 66,
    "start_time": "2024-09-04T00:15:55.100Z"
   },
   {
    "duration": 43,
    "start_time": "2024-09-04T00:15:57.212Z"
   },
   {
    "duration": 46,
    "start_time": "2024-09-04T00:15:59.605Z"
   },
   {
    "duration": 39,
    "start_time": "2024-09-04T00:16:01.592Z"
   },
   {
    "duration": 33,
    "start_time": "2024-09-04T00:16:04.050Z"
   },
   {
    "duration": 3,
    "start_time": "2024-09-04T00:16:06.765Z"
   },
   {
    "duration": 13,
    "start_time": "2024-09-04T00:16:08.348Z"
   },
   {
    "duration": 6,
    "start_time": "2024-09-04T00:16:09.971Z"
   },
   {
    "duration": 17,
    "start_time": "2024-09-04T00:16:15.926Z"
   },
   {
    "duration": 8,
    "start_time": "2024-09-04T00:16:23.472Z"
   },
   {
    "duration": 6,
    "start_time": "2024-09-04T00:16:43.771Z"
   },
   {
    "duration": 17,
    "start_time": "2024-09-04T00:16:59.558Z"
   },
   {
    "duration": 6,
    "start_time": "2024-09-04T00:17:13.197Z"
   },
   {
    "duration": 294,
    "start_time": "2024-09-04T00:17:38.967Z"
   },
   {
    "duration": 116,
    "start_time": "2024-09-04T00:17:40.504Z"
   },
   {
    "duration": 14,
    "start_time": "2024-09-04T00:17:42.273Z"
   },
   {
    "duration": 24,
    "start_time": "2024-09-04T00:17:44.420Z"
   },
   {
    "duration": 3,
    "start_time": "2024-09-04T00:17:47.755Z"
   },
   {
    "duration": 4,
    "start_time": "2024-09-04T00:17:50.129Z"
   },
   {
    "duration": 4,
    "start_time": "2024-09-04T00:17:52.501Z"
   },
   {
    "duration": 19,
    "start_time": "2024-09-04T00:17:54.566Z"
   },
   {
    "duration": 24,
    "start_time": "2024-09-04T00:17:57.488Z"
   },
   {
    "duration": 18,
    "start_time": "2024-09-04T00:17:59.321Z"
   },
   {
    "duration": 42,
    "start_time": "2024-09-04T00:18:01.362Z"
   },
   {
    "duration": 47,
    "start_time": "2024-09-04T00:18:03.290Z"
   },
   {
    "duration": 38,
    "start_time": "2024-09-04T00:18:07.420Z"
   },
   {
    "duration": 339,
    "start_time": "2024-09-04T00:18:15.616Z"
   },
   {
    "duration": 119,
    "start_time": "2024-09-04T00:18:17.378Z"
   },
   {
    "duration": 15,
    "start_time": "2024-09-04T00:18:19.680Z"
   },
   {
    "duration": 24,
    "start_time": "2024-09-04T00:18:21.968Z"
   },
   {
    "duration": 4,
    "start_time": "2024-09-04T00:18:24.471Z"
   },
   {
    "duration": 3,
    "start_time": "2024-09-04T00:18:26.983Z"
   },
   {
    "duration": 4,
    "start_time": "2024-09-04T00:18:28.976Z"
   },
   {
    "duration": 19,
    "start_time": "2024-09-04T00:18:31.063Z"
   },
   {
    "duration": 32,
    "start_time": "2024-09-04T00:18:33.271Z"
   },
   {
    "duration": 23,
    "start_time": "2024-09-04T00:18:35.112Z"
   },
   {
    "duration": 51,
    "start_time": "2024-09-04T00:18:37.404Z"
   },
   {
    "duration": 42,
    "start_time": "2024-09-04T00:18:39.455Z"
   },
   {
    "duration": 46,
    "start_time": "2024-09-04T00:18:41.781Z"
   },
   {
    "duration": 38,
    "start_time": "2024-09-04T00:18:44.413Z"
   },
   {
    "duration": 32,
    "start_time": "2024-09-04T00:18:47.725Z"
   },
   {
    "duration": 3,
    "start_time": "2024-09-04T00:18:51.624Z"
   },
   {
    "duration": 12,
    "start_time": "2024-09-04T00:18:53.415Z"
   },
   {
    "duration": 8,
    "start_time": "2024-09-04T00:18:55.169Z"
   },
   {
    "duration": 19,
    "start_time": "2024-09-04T00:18:59.937Z"
   },
   {
    "duration": 17,
    "start_time": "2024-09-04T00:19:05.246Z"
   },
   {
    "duration": 9,
    "start_time": "2024-09-04T00:19:54.334Z"
   },
   {
    "duration": 11,
    "start_time": "2024-09-04T00:20:29.853Z"
   },
   {
    "duration": 14,
    "start_time": "2024-09-04T00:20:45.112Z"
   },
   {
    "duration": 17,
    "start_time": "2024-09-04T00:32:58.839Z"
   },
   {
    "duration": 9,
    "start_time": "2024-09-04T00:33:14.472Z"
   },
   {
    "duration": 18,
    "start_time": "2024-09-04T00:33:26.252Z"
   },
   {
    "duration": 14,
    "start_time": "2024-09-04T00:34:00.325Z"
   },
   {
    "duration": 3,
    "start_time": "2024-09-04T00:34:13.114Z"
   },
   {
    "duration": 124,
    "start_time": "2024-09-04T00:34:13.122Z"
   },
   {
    "duration": 10,
    "start_time": "2024-09-04T00:34:13.248Z"
   },
   {
    "duration": 23,
    "start_time": "2024-09-04T00:34:13.260Z"
   },
   {
    "duration": 5,
    "start_time": "2024-09-04T00:34:13.287Z"
   },
   {
    "duration": 4,
    "start_time": "2024-09-04T00:34:13.312Z"
   },
   {
    "duration": 4,
    "start_time": "2024-09-04T00:34:13.318Z"
   },
   {
    "duration": 20,
    "start_time": "2024-09-04T00:34:13.323Z"
   },
   {
    "duration": 26,
    "start_time": "2024-09-04T00:34:13.345Z"
   },
   {
    "duration": 51,
    "start_time": "2024-09-04T00:34:13.373Z"
   },
   {
    "duration": 42,
    "start_time": "2024-09-04T00:34:13.426Z"
   },
   {
    "duration": 59,
    "start_time": "2024-09-04T00:34:13.470Z"
   },
   {
    "duration": 48,
    "start_time": "2024-09-04T00:34:13.531Z"
   },
   {
    "duration": 54,
    "start_time": "2024-09-04T00:34:13.581Z"
   },
   {
    "duration": 31,
    "start_time": "2024-09-04T00:34:13.639Z"
   },
   {
    "duration": 4,
    "start_time": "2024-09-04T00:34:13.672Z"
   },
   {
    "duration": 38,
    "start_time": "2024-09-04T00:34:13.677Z"
   },
   {
    "duration": 7,
    "start_time": "2024-09-04T00:34:13.717Z"
   },
   {
    "duration": 18,
    "start_time": "2024-09-04T00:34:13.725Z"
   },
   {
    "duration": 8,
    "start_time": "2024-09-04T00:34:43.592Z"
   },
   {
    "duration": 15,
    "start_time": "2024-09-04T00:34:46.559Z"
   },
   {
    "duration": 4,
    "start_time": "2024-09-04T00:35:10.640Z"
   },
   {
    "duration": 292,
    "start_time": "2024-09-04T00:35:35.189Z"
   },
   {
    "duration": 118,
    "start_time": "2024-09-04T00:35:36.781Z"
   },
   {
    "duration": 15,
    "start_time": "2024-09-04T00:35:38.821Z"
   },
   {
    "duration": 26,
    "start_time": "2024-09-04T00:35:41.352Z"
   },
   {
    "duration": 3,
    "start_time": "2024-09-04T00:35:44.488Z"
   },
   {
    "duration": 3,
    "start_time": "2024-09-04T00:35:46.515Z"
   },
   {
    "duration": 4,
    "start_time": "2024-09-04T00:35:48.427Z"
   },
   {
    "duration": 21,
    "start_time": "2024-09-04T00:35:50.854Z"
   },
   {
    "duration": 25,
    "start_time": "2024-09-04T00:35:53.201Z"
   },
   {
    "duration": 18,
    "start_time": "2024-09-04T00:35:55.092Z"
   },
   {
    "duration": 50,
    "start_time": "2024-09-04T00:35:57.581Z"
   },
   {
    "duration": 41,
    "start_time": "2024-09-04T00:36:00.111Z"
   },
   {
    "duration": 45,
    "start_time": "2024-09-04T00:36:02.180Z"
   },
   {
    "duration": 43,
    "start_time": "2024-09-04T00:36:04.068Z"
   },
   {
    "duration": 33,
    "start_time": "2024-09-04T00:36:06.294Z"
   },
   {
    "duration": 3,
    "start_time": "2024-09-04T00:36:08.788Z"
   },
   {
    "duration": 14,
    "start_time": "2024-09-04T00:36:11.096Z"
   },
   {
    "duration": 7,
    "start_time": "2024-09-04T00:36:13.213Z"
   },
   {
    "duration": 16,
    "start_time": "2024-09-04T00:36:16.350Z"
   },
   {
    "duration": 8,
    "start_time": "2024-09-04T00:36:19.250Z"
   },
   {
    "duration": 5,
    "start_time": "2024-09-04T00:36:25.620Z"
   },
   {
    "duration": 335,
    "start_time": "2024-09-04T00:36:50.091Z"
   },
   {
    "duration": 129,
    "start_time": "2024-09-04T00:36:52.014Z"
   },
   {
    "duration": 16,
    "start_time": "2024-09-04T00:36:54.019Z"
   },
   {
    "duration": 28,
    "start_time": "2024-09-04T00:36:57.295Z"
   },
   {
    "duration": 6,
    "start_time": "2024-09-04T00:37:00.569Z"
   },
   {
    "duration": 4,
    "start_time": "2024-09-04T00:37:02.924Z"
   },
   {
    "duration": 5,
    "start_time": "2024-09-04T00:37:04.379Z"
   },
   {
    "duration": 26,
    "start_time": "2024-09-04T00:37:06.270Z"
   },
   {
    "duration": 24,
    "start_time": "2024-09-04T00:37:08.497Z"
   },
   {
    "duration": 19,
    "start_time": "2024-09-04T00:37:10.506Z"
   },
   {
    "duration": 43,
    "start_time": "2024-09-04T00:37:12.697Z"
   },
   {
    "duration": 43,
    "start_time": "2024-09-04T00:37:14.503Z"
   },
   {
    "duration": 46,
    "start_time": "2024-09-04T00:37:16.320Z"
   },
   {
    "duration": 41,
    "start_time": "2024-09-04T00:37:17.950Z"
   },
   {
    "duration": 33,
    "start_time": "2024-09-04T00:37:20.890Z"
   },
   {
    "duration": 3,
    "start_time": "2024-09-04T00:37:23.896Z"
   },
   {
    "duration": 13,
    "start_time": "2024-09-04T00:37:25.922Z"
   },
   {
    "duration": 6,
    "start_time": "2024-09-04T00:37:28.071Z"
   },
   {
    "duration": 17,
    "start_time": "2024-09-04T00:37:33.830Z"
   },
   {
    "duration": 8,
    "start_time": "2024-09-04T00:37:42.223Z"
   },
   {
    "duration": 17,
    "start_time": "2024-09-04T00:37:46.065Z"
   },
   {
    "duration": 9,
    "start_time": "2024-09-04T00:38:00.336Z"
   },
   {
    "duration": 10,
    "start_time": "2024-09-04T00:38:03.734Z"
   },
   {
    "duration": 256,
    "start_time": "2024-09-04T19:55:20.188Z"
   },
   {
    "duration": 334,
    "start_time": "2024-09-04T19:55:36.104Z"
   },
   {
    "duration": 157,
    "start_time": "2024-09-04T19:55:37.838Z"
   },
   {
    "duration": 15,
    "start_time": "2024-09-04T19:55:40.007Z"
   },
   {
    "duration": 23,
    "start_time": "2024-09-04T19:55:41.991Z"
   },
   {
    "duration": 4,
    "start_time": "2024-09-04T19:55:44.487Z"
   },
   {
    "duration": 3,
    "start_time": "2024-09-04T19:55:46.948Z"
   },
   {
    "duration": 4,
    "start_time": "2024-09-04T19:55:48.807Z"
   },
   {
    "duration": 20,
    "start_time": "2024-09-04T19:55:50.930Z"
   },
   {
    "duration": 28,
    "start_time": "2024-09-04T19:55:57.401Z"
   },
   {
    "duration": 39,
    "start_time": "2024-09-04T19:55:59.239Z"
   },
   {
    "duration": 28,
    "start_time": "2024-09-04T19:56:01.435Z"
   },
   {
    "duration": 43,
    "start_time": "2024-09-04T19:56:03.607Z"
   },
   {
    "duration": 49,
    "start_time": "2024-09-04T19:56:05.502Z"
   },
   {
    "duration": 52,
    "start_time": "2024-09-04T19:56:07.535Z"
   },
   {
    "duration": 40,
    "start_time": "2024-09-04T19:56:09.682Z"
   },
   {
    "duration": 33,
    "start_time": "2024-09-04T19:56:12.415Z"
   },
   {
    "duration": 4,
    "start_time": "2024-09-04T19:56:16.996Z"
   },
   {
    "duration": 12,
    "start_time": "2024-09-04T19:56:19.028Z"
   },
   {
    "duration": 6,
    "start_time": "2024-09-04T19:56:20.963Z"
   },
   {
    "duration": 18,
    "start_time": "2024-09-04T19:56:24.333Z"
   },
   {
    "duration": 11,
    "start_time": "2024-09-04T19:56:28.888Z"
   },
   {
    "duration": 11,
    "start_time": "2024-09-04T19:56:35.295Z"
   },
   {
    "duration": 10,
    "start_time": "2024-09-04T19:57:02.341Z"
   },
   {
    "duration": 7,
    "start_time": "2024-09-04T19:57:12.508Z"
   },
   {
    "duration": 165,
    "start_time": "2024-09-04T20:37:11.978Z"
   },
   {
    "duration": 340,
    "start_time": "2024-09-04T20:37:19.943Z"
   },
   {
    "duration": 163,
    "start_time": "2024-09-04T20:37:22.525Z"
   },
   {
    "duration": 16,
    "start_time": "2024-09-04T20:37:25.799Z"
   },
   {
    "duration": 24,
    "start_time": "2024-09-04T20:37:29.948Z"
   },
   {
    "duration": 4,
    "start_time": "2024-09-04T20:37:39.335Z"
   },
   {
    "duration": 3,
    "start_time": "2024-09-04T20:37:42.216Z"
   },
   {
    "duration": 4,
    "start_time": "2024-09-04T20:37:45.170Z"
   },
   {
    "duration": 23,
    "start_time": "2024-09-04T20:37:47.724Z"
   },
   {
    "duration": 25,
    "start_time": "2024-09-04T20:37:50.000Z"
   },
   {
    "duration": 21,
    "start_time": "2024-09-04T20:37:52.392Z"
   },
   {
    "duration": 4,
    "start_time": "2024-09-04T20:39:49.472Z"
   },
   {
    "duration": 21,
    "start_time": "2024-09-04T20:39:51.930Z"
   },
   {
    "duration": 267,
    "start_time": "2024-09-04T20:40:02.906Z"
   },
   {
    "duration": 114,
    "start_time": "2024-09-04T20:40:04.706Z"
   },
   {
    "duration": 14,
    "start_time": "2024-09-04T20:40:07.386Z"
   },
   {
    "duration": 25,
    "start_time": "2024-09-04T20:40:09.779Z"
   },
   {
    "duration": 4,
    "start_time": "2024-09-04T20:40:12.826Z"
   },
   {
    "duration": 3,
    "start_time": "2024-09-04T20:40:15.231Z"
   },
   {
    "duration": 4,
    "start_time": "2024-09-04T20:40:17.407Z"
   },
   {
    "duration": 20,
    "start_time": "2024-09-04T20:40:22.070Z"
   },
   {
    "duration": 24,
    "start_time": "2024-09-04T20:40:24.565Z"
   },
   {
    "duration": 19,
    "start_time": "2024-09-04T20:40:26.908Z"
   },
   {
    "duration": 43,
    "start_time": "2024-09-04T20:45:04.229Z"
   },
   {
    "duration": 46,
    "start_time": "2024-09-04T20:45:06.675Z"
   },
   {
    "duration": 47,
    "start_time": "2024-09-04T20:45:10.108Z"
   },
   {
    "duration": 40,
    "start_time": "2024-09-04T20:45:14.315Z"
   },
   {
    "duration": 37,
    "start_time": "2024-09-04T20:45:29.367Z"
   },
   {
    "duration": 39,
    "start_time": "2024-09-04T20:45:56.467Z"
   },
   {
    "duration": 39,
    "start_time": "2024-09-04T20:46:01.248Z"
   },
   {
    "duration": 39,
    "start_time": "2024-09-04T20:46:14.990Z"
   },
   {
    "duration": 32,
    "start_time": "2024-09-04T20:46:25.824Z"
   },
   {
    "duration": 3,
    "start_time": "2024-09-04T20:46:35.180Z"
   },
   {
    "duration": 13,
    "start_time": "2024-09-04T20:46:37.442Z"
   },
   {
    "duration": 8,
    "start_time": "2024-09-04T20:46:39.572Z"
   },
   {
    "duration": 3,
    "start_time": "2024-09-04T20:47:02.598Z"
   },
   {
    "duration": 14,
    "start_time": "2024-09-04T20:47:04.981Z"
   },
   {
    "duration": 7,
    "start_time": "2024-09-04T20:47:06.905Z"
   },
   {
    "duration": 17,
    "start_time": "2024-09-04T20:48:51.973Z"
   },
   {
    "duration": 6,
    "start_time": "2024-09-04T20:49:21.213Z"
   },
   {
    "duration": 7,
    "start_time": "2024-09-04T20:49:51.993Z"
   },
   {
    "duration": 7,
    "start_time": "2024-09-04T20:50:15.056Z"
   },
   {
    "duration": 308,
    "start_time": "2024-09-04T20:50:50.681Z"
   },
   {
    "duration": 132,
    "start_time": "2024-09-04T20:50:52.387Z"
   },
   {
    "duration": 14,
    "start_time": "2024-09-04T20:50:53.996Z"
   },
   {
    "duration": 24,
    "start_time": "2024-09-04T20:50:56.519Z"
   },
   {
    "duration": 4,
    "start_time": "2024-09-04T20:50:58.690Z"
   },
   {
    "duration": 4,
    "start_time": "2024-09-04T20:51:00.647Z"
   },
   {
    "duration": 4,
    "start_time": "2024-09-04T20:51:03.635Z"
   },
   {
    "duration": 20,
    "start_time": "2024-09-04T20:51:05.968Z"
   },
   {
    "duration": 25,
    "start_time": "2024-09-04T20:51:08.019Z"
   },
   {
    "duration": 20,
    "start_time": "2024-09-04T20:51:10.205Z"
   },
   {
    "duration": 42,
    "start_time": "2024-09-04T20:51:12.673Z"
   },
   {
    "duration": 43,
    "start_time": "2024-09-04T20:51:14.478Z"
   },
   {
    "duration": 46,
    "start_time": "2024-09-04T20:51:16.226Z"
   },
   {
    "duration": 41,
    "start_time": "2024-09-04T20:51:17.908Z"
   },
   {
    "duration": 35,
    "start_time": "2024-09-04T20:51:20.372Z"
   },
   {
    "duration": 3,
    "start_time": "2024-09-04T20:51:22.673Z"
   },
   {
    "duration": 14,
    "start_time": "2024-09-04T20:51:24.586Z"
   },
   {
    "duration": 7,
    "start_time": "2024-09-04T20:51:26.176Z"
   },
   {
    "duration": 18,
    "start_time": "2024-09-04T20:51:31.381Z"
   },
   {
    "duration": 5,
    "start_time": "2024-09-04T20:51:35.379Z"
   },
   {
    "duration": 490,
    "start_time": "2024-09-04T20:51:42.032Z"
   },
   {
    "duration": 37,
    "start_time": "2024-09-04T20:51:58.707Z"
   },
   {
    "duration": 268,
    "start_time": "2024-09-04T20:52:29.114Z"
   },
   {
    "duration": 116,
    "start_time": "2024-09-04T20:52:30.531Z"
   },
   {
    "duration": 14,
    "start_time": "2024-09-04T20:52:32.323Z"
   },
   {
    "duration": 22,
    "start_time": "2024-09-04T20:52:34.331Z"
   },
   {
    "duration": 3,
    "start_time": "2024-09-04T20:52:36.685Z"
   },
   {
    "duration": 3,
    "start_time": "2024-09-04T20:52:40.257Z"
   },
   {
    "duration": 3,
    "start_time": "2024-09-04T20:52:42.048Z"
   },
   {
    "duration": 20,
    "start_time": "2024-09-04T20:52:44.362Z"
   },
   {
    "duration": 24,
    "start_time": "2024-09-04T20:52:45.999Z"
   },
   {
    "duration": 19,
    "start_time": "2024-09-04T20:52:47.306Z"
   },
   {
    "duration": 68,
    "start_time": "2024-09-04T20:52:49.065Z"
   },
   {
    "duration": 41,
    "start_time": "2024-09-04T20:52:50.907Z"
   },
   {
    "duration": 59,
    "start_time": "2024-09-04T20:52:53.447Z"
   },
   {
    "duration": 38,
    "start_time": "2024-09-04T20:52:55.087Z"
   },
   {
    "duration": 32,
    "start_time": "2024-09-04T20:52:57.873Z"
   },
   {
    "duration": 2,
    "start_time": "2024-09-04T20:53:00.961Z"
   },
   {
    "duration": 17,
    "start_time": "2024-09-04T20:53:02.685Z"
   },
   {
    "duration": 10,
    "start_time": "2024-09-04T20:53:04.776Z"
   },
   {
    "duration": 16,
    "start_time": "2024-09-04T20:53:20.292Z"
   },
   {
    "duration": 6,
    "start_time": "2024-09-04T20:55:36.724Z"
   },
   {
    "duration": 9,
    "start_time": "2024-09-04T20:55:44.814Z"
   },
   {
    "duration": 332,
    "start_time": "2024-09-04T20:56:01.350Z"
   },
   {
    "duration": 122,
    "start_time": "2024-09-04T20:56:02.810Z"
   },
   {
    "duration": 14,
    "start_time": "2024-09-04T20:56:04.699Z"
   },
   {
    "duration": 23,
    "start_time": "2024-09-04T20:56:06.718Z"
   },
   {
    "duration": 3,
    "start_time": "2024-09-04T20:56:09.039Z"
   },
   {
    "duration": 3,
    "start_time": "2024-09-04T20:56:11.473Z"
   },
   {
    "duration": 4,
    "start_time": "2024-09-04T20:56:13.269Z"
   },
   {
    "duration": 21,
    "start_time": "2024-09-04T20:56:15.215Z"
   },
   {
    "duration": 27,
    "start_time": "2024-09-04T20:56:17.263Z"
   },
   {
    "duration": 20,
    "start_time": "2024-09-04T20:56:19.198Z"
   },
   {
    "duration": 43,
    "start_time": "2024-09-04T20:56:21.383Z"
   },
   {
    "duration": 46,
    "start_time": "2024-09-04T20:56:23.332Z"
   },
   {
    "duration": 41,
    "start_time": "2024-09-04T20:56:24.857Z"
   },
   {
    "duration": 32,
    "start_time": "2024-09-04T20:56:26.923Z"
   },
   {
    "duration": 3,
    "start_time": "2024-09-04T20:56:29.547Z"
   },
   {
    "duration": 17,
    "start_time": "2024-09-04T20:56:31.885Z"
   },
   {
    "duration": 7,
    "start_time": "2024-09-04T20:56:33.457Z"
   },
   {
    "duration": 17,
    "start_time": "2024-09-04T20:56:37.598Z"
   },
   {
    "duration": 17,
    "start_time": "2024-09-04T20:56:41.224Z"
   },
   {
    "duration": 12,
    "start_time": "2024-09-04T20:57:14.510Z"
   },
   {
    "duration": 12,
    "start_time": "2024-09-04T20:57:48.315Z"
   },
   {
    "duration": 4,
    "start_time": "2024-09-04T21:00:57.850Z"
   },
   {
    "duration": 17,
    "start_time": "2024-09-04T21:01:07.662Z"
   },
   {
    "duration": 6,
    "start_time": "2024-09-04T21:01:34.153Z"
   },
   {
    "duration": 10,
    "start_time": "2024-09-04T21:02:40.196Z"
   },
   {
    "duration": 10,
    "start_time": "2024-09-04T21:07:43.024Z"
   },
   {
    "duration": 8,
    "start_time": "2024-09-04T21:13:07.609Z"
   },
   {
    "duration": 308,
    "start_time": "2024-09-05T04:23:33.188Z"
   },
   {
    "duration": 188,
    "start_time": "2024-09-05T04:23:33.498Z"
   },
   {
    "duration": 14,
    "start_time": "2024-09-05T04:23:33.688Z"
   },
   {
    "duration": 50,
    "start_time": "2024-09-05T04:23:33.703Z"
   },
   {
    "duration": 3,
    "start_time": "2024-09-05T04:23:33.756Z"
   },
   {
    "duration": 4,
    "start_time": "2024-09-05T04:23:33.762Z"
   },
   {
    "duration": 3,
    "start_time": "2024-09-05T04:23:33.768Z"
   },
   {
    "duration": 20,
    "start_time": "2024-09-05T04:23:33.773Z"
   },
   {
    "duration": 49,
    "start_time": "2024-09-05T04:23:33.794Z"
   },
   {
    "duration": 20,
    "start_time": "2024-09-05T04:23:33.847Z"
   },
   {
    "duration": 65,
    "start_time": "2024-09-05T04:23:33.869Z"
   },
   {
    "duration": 43,
    "start_time": "2024-09-05T04:23:33.936Z"
   },
   {
    "duration": 63,
    "start_time": "2024-09-05T04:23:33.981Z"
   },
   {
    "duration": 38,
    "start_time": "2024-09-05T04:23:34.048Z"
   },
   {
    "duration": 51,
    "start_time": "2024-09-05T04:23:34.088Z"
   },
   {
    "duration": 4,
    "start_time": "2024-09-05T04:23:34.140Z"
   },
   {
    "duration": 14,
    "start_time": "2024-09-05T04:23:34.146Z"
   },
   {
    "duration": 7,
    "start_time": "2024-09-05T04:23:34.161Z"
   },
   {
    "duration": 17,
    "start_time": "2024-09-05T04:23:34.169Z"
   },
   {
    "duration": 22,
    "start_time": "2024-09-05T04:23:34.209Z"
   },
   {
    "duration": 10,
    "start_time": "2024-09-05T04:23:34.234Z"
   },
   {
    "duration": 5,
    "start_time": "2024-09-05T04:23:34.247Z"
   },
   {
    "duration": 12,
    "start_time": "2024-09-05T04:23:34.254Z"
   },
   {
    "duration": 48,
    "start_time": "2024-09-05T04:23:34.268Z"
   }
  ],
  "kernelspec": {
   "display_name": "Python 3 (ipykernel)",
   "language": "python",
   "name": "python3"
  },
  "language_info": {
   "codemirror_mode": {
    "name": "ipython",
    "version": 3
   },
   "file_extension": ".py",
   "mimetype": "text/x-python",
   "name": "python",
   "nbconvert_exporter": "python",
   "pygments_lexer": "ipython3",
   "version": "3.9.19"
  },
  "toc": {
   "base_numbering": 1,
   "nav_menu": {},
   "number_sections": true,
   "sideBar": true,
   "skip_h1_title": true,
   "title_cell": "Table of Contents",
   "title_sidebar": "Contents",
   "toc_cell": false,
   "toc_position": {},
   "toc_section_display": true,
   "toc_window_display": true
  }
 },
 "nbformat": 4,
 "nbformat_minor": 5
}
